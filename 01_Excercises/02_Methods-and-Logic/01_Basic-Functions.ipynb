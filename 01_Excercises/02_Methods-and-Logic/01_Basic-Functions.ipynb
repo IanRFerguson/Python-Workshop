{
 "cells": [
  {
   "cell_type": "markdown",
   "metadata": {},
   "source": [
    "# Practice with Functions\n",
    "------------------\n",
    "As we've discussed, functions are an efficient means of reducing the amount of code you have to write. They are defined with **def my_function_name(arguments)** and can either **return values** or **operate in-place**"
   ]
  },
  {
   "cell_type": "code",
   "execution_count": 2,
   "metadata": {},
   "outputs": [
    {
     "data": {
      "text/plain": [
       "['Brooklyn']"
      ]
     },
     "execution_count": 2,
     "metadata": {},
     "output_type": "execute_result"
    }
   ],
   "source": [
    "# Return value example\n",
    "cities = [\"Philadelphia\", \"Washington, D.C.\", \"Richmond\", \"Brooklyn\", \"San Francisco\"]\n",
    "\n",
    "# Define function\n",
    "def startsWithB(lst):\n",
    "    \"\"\"Returns any items in the list that begin with \"B\"\"\"\"\n",
    "    \n",
    "    output = []\n",
    "    \n",
    "    for k in lst:\n",
    "        \n",
    "        if k[0].lower() == \"b\":\n",
    "            output.append(k)\n",
    "            \n",
    "    return output\n",
    "\n",
    "# Call function on our list of cities\n",
    "startsWithB(cities)"
   ]
  },
  {
   "cell_type": "code",
   "execution_count": 3,
   "metadata": {},
   "outputs": [
    {
     "name": "stdout",
     "output_type": "stream",
     "text": [
      "Hey howdy Ian! Glad to see you\n",
      "Hey howdy Spencer! Glad to see you\n",
      "Hey howdy Gavin! Glad to see you\n",
      "Hey howdy Zach! Glad to see you\n"
     ]
    }
   ],
   "source": [
    "# In-place example\n",
    "names = [\"Ian\", \"Spencer\", \"Gavin\", \"Zach\"]\n",
    "\n",
    "# Define function\n",
    "def greetings(name):\n",
    "    \n",
    "    print(\"Hey howdy {}! Glad to see you\".format(name))\n",
    "    \n",
    "# Call function on list of names\n",
    "for name in names:\n",
    "    greetings(name)"
   ]
  },
  {
   "cell_type": "markdown",
   "metadata": {},
   "source": [
    "## What's the Difference?\n"
   ]
  },
  {
   "cell_type": "code",
   "execution_count": 4,
   "metadata": {},
   "outputs": [
    {
     "name": "stdout",
     "output_type": "stream",
     "text": [
      "Hey howdy Joe Biden! Glad to see you\n"
     ]
    }
   ],
   "source": [
    "in_place_example = greetings(\"Joe Biden\")"
   ]
  },
  {
   "cell_type": "code",
   "execution_count": 7,
   "metadata": {},
   "outputs": [
    {
     "data": {
      "text/plain": [
       "['Brooklyn']"
      ]
     },
     "execution_count": 7,
     "metadata": {},
     "output_type": "execute_result"
    }
   ],
   "source": [
    "return_example = startsWithB(cities)\n",
    "\n",
    "return_example"
   ]
  },
  {
   "cell_type": "markdown",
   "metadata": {},
   "source": [
    "These approaches are both useful - however, functions that **return values** are especially effective when you want to assign the output to a value. In this case, we ended up with a list completely separate from our starting list of cities. We could then manipulate this list without affecting the original list of cities. \n",
    "<br><br>\n",
    "It's all context dependent!"
   ]
  },
  {
   "cell_type": "markdown",
   "metadata": {},
   "source": [
    "## Practice\n",
    "--------------"
   ]
  },
  {
   "cell_type": "code",
   "execution_count": null,
   "metadata": {},
   "outputs": [],
   "source": [
    "# Write a function to multiply two numbers\n",
    "def multiplier(a, b):\n",
    "    \n",
    "    --------\n",
    "    \n",
    "multiplier(4, 5)"
   ]
  },
  {
   "cell_type": "code",
   "execution_count": null,
   "metadata": {},
   "outputs": [],
   "source": [
    "# Convert Celsius to Fahrenheit\n",
    "# Hint: Equation == (Temp * 9/5) + 32\n",
    "\n",
    "def celsiusToFahrenheit(Temp):\n",
    "    \n",
    "    ----------\n",
    "    \n",
    "celsiusToFahrenheit(20)"
   ]
  },
  {
   "cell_type": "code",
   "execution_count": null,
   "metadata": {},
   "outputs": [],
   "source": [
    "# Write a function to print names that are 3 letters long\n",
    "names = [\"Ben\", \"Stan\", \"Mia\", \"Frank\", \"Hannah\", \"Drew\", \"Ted\"]\n",
    "\n",
    "def threeLetterNames(lst):\n",
    "    \n",
    "    -----------\n",
    "    \n",
    "threeLetterNames(names)"
   ]
  }
 ],
 "metadata": {
  "kernelspec": {
   "display_name": "Python 3",
   "language": "python",
   "name": "python3"
  },
  "language_info": {
   "codemirror_mode": {
    "name": "ipython",
    "version": 3
   },
   "file_extension": ".py",
   "mimetype": "text/x-python",
   "name": "python",
   "nbconvert_exporter": "python",
   "pygments_lexer": "ipython3",
   "version": "3.6.0"
  }
 },
 "nbformat": 4,
 "nbformat_minor": 2
}
