{
 "cells": [
  {
   "cell_type": "markdown",
   "metadata": {},
   "source": [
    "# Logic in Python\n",
    "------------------\n",
    "To control the flow of our program, it's useful to only execute certain blocks of code when a condition is met. Python allows us to do that effectively using an **if** block. Let's explore..."
   ]
  },
  {
   "cell_type": "code",
   "execution_count": 1,
   "metadata": {},
   "outputs": [
    {
     "name": "stdout",
     "output_type": "stream",
     "text": [
      "Your number is greater than 80\n"
     ]
    }
   ],
   "source": [
    "my_num = 81\n",
    "\n",
    "if (my_num > 80):\n",
    "    print(\"Your number is greater than 80\")"
   ]
  },
  {
   "cell_type": "code",
   "execution_count": null,
   "metadata": {},
   "outputs": [],
   "source": [
    "# Write a statement to print a message if my number is even\n",
    "my_num = 82\n",
    "\n",
    "if -----"
   ]
  },
  {
   "cell_type": "markdown",
   "metadata": {},
   "source": [
    "When an if statement evaluates to be false, it's often useful to have another set of code run. This is called an **else** block, and it must come after the **if** block."
   ]
  },
  {
   "cell_type": "code",
   "execution_count": 2,
   "metadata": {},
   "outputs": [
    {
     "name": "stdout",
     "output_type": "stream",
     "text": [
      "Ah, we know who you are\n"
     ]
    }
   ],
   "source": [
    "my_name = \"Ian\"\n",
    "\n",
    "if my_name is not \"Ian\":\n",
    "    print(\"What's your name?\")\n",
    "    \n",
    "else:\n",
    "    print(\"Ah, we know who you are\")"
   ]
  },
  {
   "cell_type": "code",
   "execution_count": null,
   "metadata": {},
   "outputs": [],
   "source": [
    "# Write a logic block that prints your number if it's less than 10, but prints a message otherwise\n",
    "my_num = 11\n",
    "\n",
    "if -----\n",
    "\n",
    "else -----"
   ]
  },
  {
   "cell_type": "markdown",
   "metadata": {},
   "source": [
    "Lastly, we use an **elif** block as an intermediary between an if and else block. It's important to note that you can have infinite **elif** statements, but the *first one to evaluate to True* will execute.\n",
    "<br> <br>\n",
    "Elif is useful when we want to avoid writing a bunch of if statements that would all evaluate as True."
   ]
  },
  {
   "cell_type": "code",
   "execution_count": 2,
   "metadata": {},
   "outputs": [
    {
     "name": "stdout",
     "output_type": "stream",
     "text": [
      "Three digit number\n"
     ]
    }
   ],
   "source": [
    "my_number = 850\n",
    "\n",
    "if 0 < my_number < 9:\n",
    "    print(\"One digit number\")\n",
    "    \n",
    "elif 10 < my_number < 99:\n",
    "    print(\"Two digit number\")\n",
    "    \n",
    "elif 100 < my_number < 999:\n",
    "    print(\"Three digit number\")\n",
    "    \n",
    "else:\n",
    "    print(\"Not a number at all\")"
   ]
  },
  {
   "cell_type": "code",
   "execution_count": null,
   "metadata": {},
   "outputs": [],
   "source": [
    "# Write an elif statement that will evaluate to True\n",
    "my_name = \"John Rambo\"\n",
    "\n",
    "if my_name == \"John McClane\":\n",
    "    print(\"I was the star of Die Hard\")\n",
    "    \n",
    "elif ----\n",
    "\n",
    "else:\n",
    "    print(\"I wasn't a movie star\")"
   ]
  }
 ],
 "metadata": {
  "kernelspec": {
   "display_name": "Python 3",
   "language": "python",
   "name": "python3"
  },
  "language_info": {
   "codemirror_mode": {
    "name": "ipython",
    "version": 3
   },
   "file_extension": ".py",
   "mimetype": "text/x-python",
   "name": "python",
   "nbconvert_exporter": "python",
   "pygments_lexer": "ipython3",
   "version": "3.6.0"
  }
 },
 "nbformat": 4,
 "nbformat_minor": 2
}
