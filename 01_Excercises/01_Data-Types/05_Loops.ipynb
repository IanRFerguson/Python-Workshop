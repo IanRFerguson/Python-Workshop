{
 "cells": [
  {
   "cell_type": "markdown",
   "metadata": {},
   "source": [
    "# Loops\n",
    "-----------\n",
    "A loop executes a block of code repetitively - this saves time, since we don't have to write the same code over and over.\n",
    "* **For loops** execute for a set amount - for example, for every item in a list\n",
    "* **While loops** execute for a indeterminate amount of time - this is useful when we don't know how long we want a loop to execute for"
   ]
  },
  {
   "cell_type": "markdown",
   "metadata": {},
   "source": [
    "## For Loops\n",
    "----------------\n",
    "The basic syntax for a Pythonic for loops is **for {keyword} in {range}:**\n",
    "* The {keyword} here can be anything you want, but it's best if it's descriptive\n",
    "* The {range} in this example is the set of values you want to loop through"
   ]
  },
  {
   "cell_type": "code",
   "execution_count": 1,
   "metadata": {},
   "outputs": [
    {
     "name": "stdout",
     "output_type": "stream",
     "text": [
      "Philadelphia sure is a pretty city!\n",
      "Washington, D.C. sure is a pretty city!\n",
      "Richmond sure is a pretty city!\n",
      "Brooklyn sure is a pretty city!\n",
      "San Francisco sure is a pretty city!\n"
     ]
    }
   ],
   "source": [
    "# Example\n",
    "cities = [\"Philadelphia\", \"Washington, D.C.\", \"Richmond\", \"Brooklyn\", \"San Francisco\"]\n",
    "\n",
    "for city in cities:\n",
    "    \n",
    "    print(\"{} sure is a pretty city!\".format(city))"
   ]
  },
  {
   "cell_type": "markdown",
   "metadata": {},
   "source": [
    "A **nested for loop** is a for loop within a for loop - these are useful when you want to break down the individual characters of a string, for example."
   ]
  },
  {
   "cell_type": "code",
   "execution_count": 5,
   "metadata": {},
   "outputs": [
    {
     "name": "stdout",
     "output_type": "stream",
     "text": [
      "Found one!\n"
     ]
    }
   ],
   "source": [
    "# Nested for loop example\n",
    "for city in cities:\n",
    "    for letter in city:\n",
    "        if letter.lower() == \"b\":\n",
    "            print(\"Found one!\")"
   ]
  },
  {
   "cell_type": "markdown",
   "metadata": {},
   "source": [
    "## Now You\n",
    "--------------\n",
    "Complete the for loop syntax below!"
   ]
  },
  {
   "cell_type": "code",
   "execution_count": null,
   "metadata": {},
   "outputs": [],
   "source": [
    "# Output should read \"X is a point guard\"\n",
    "guards = [\"Curry\", \"Lillard\", \"Paul\", \"Westbrook\", \"Wall\", \"Irving\", \"Walker\"]\n",
    "\n",
    "for ------"
   ]
  },
  {
   "cell_type": "code",
   "execution_count": null,
   "metadata": {},
   "outputs": [],
   "source": [
    "# Output should read 8, 18, 28, 38, 48\n",
    "nums = [10, 20, 30, 40, 50]\n",
    "\n",
    "for ------"
   ]
  },
  {
   "cell_type": "code",
   "execution_count": null,
   "metadata": {},
   "outputs": [],
   "source": [
    "# Print this list in reverse!\n",
    "# Hint: Use indexing\n",
    "cities = [\"Philadelphia\", \"Washington, D.C.\", \"Richmond\", \"Brooklyn\", \"San Francisco\"]\n",
    "\n",
    "for -----"
   ]
  },
  {
   "cell_type": "markdown",
   "metadata": {},
   "source": [
    "## While Loops\n",
    "----------------\n",
    "Whereas for loops execute a pre-determined number of times (e.g., for the length of a list), a **while loop** executes until a condition is met. This gives us flexibility to write less code!\n",
    "<br> <br>\n",
    "One word of caution with **while loops** - if there is no stopping criteria, they will run forever and ever. That's called an infinite loop, and it's the kiss of death when you're attempting to write production code (or any kind of program that's intended to be scalable)."
   ]
  },
  {
   "cell_type": "code",
   "execution_count": 2,
   "metadata": {},
   "outputs": [
    {
     "name": "stdout",
     "output_type": "stream",
     "text": [
      "Adding another one...\n",
      "Adding another one...\n",
      "Adding another one...\n",
      "Adding another one...\n",
      "Adding another one...\n",
      "Adding another one...\n",
      "Adding another one...\n",
      "Adding another one...\n",
      "Adding another one...\n",
      "Adding another one...\n",
      "Adding another one...\n",
      "All done adding\n"
     ]
    }
   ],
   "source": [
    "my_list = []\n",
    "k = 1\n",
    "\n",
    "while len(my_list) <= 10:    # This is your stopping criteria\n",
    "    print(\"Adding another one...\")\n",
    "    my_list.append(k)\n",
    "    k += 1\n",
    "    \n",
    "print(\"All done adding\")"
   ]
  },
  {
   "cell_type": "markdown",
   "metadata": {},
   "source": [
    "In the above example, if we hadn't included the **len(my_list) <= 10** stopping criteria, the list would grow exponentially and the loop would never end. \n",
    "<br> <br>\n",
    "That's bad news!"
   ]
  },
  {
   "cell_type": "markdown",
   "metadata": {},
   "source": [
    "## Loop Keywords\n",
    "------------\n",
    "There are two essential keywords to keep in mind with loops:\n",
    "* **break** = If executed, the loop will close entirely\n",
    "* **continue** = If executed, the loop will skip that iteration but will still execute the next iteration"
   ]
  },
  {
   "cell_type": "code",
   "execution_count": 5,
   "metadata": {},
   "outputs": [
    {
     "name": "stdout",
     "output_type": "stream",
     "text": [
      "Albany\n",
      "Bristow\n",
      "Buffalo\n",
      "Montclair\n"
     ]
    }
   ],
   "source": [
    "# Break example\n",
    "cities = [\"Albany\", \"Bristow\", \"Buffalo\", \"New Haven\", \"Montclair\", \"Weehawken\"]\n",
    "cities.sort()\n",
    "\n",
    "for city in cities:\n",
    "    \n",
    "    # Check first letter of city\n",
    "    if city[0].lower() == \"n\":\n",
    "        break\n",
    "        \n",
    "    print(city)"
   ]
  },
  {
   "cell_type": "code",
   "execution_count": 6,
   "metadata": {},
   "outputs": [
    {
     "name": "stdout",
     "output_type": "stream",
     "text": [
      "Albany\n",
      "Bristow\n",
      "Buffalo\n",
      "Montclair\n",
      "Weehawken\n"
     ]
    }
   ],
   "source": [
    "# Continue example\n",
    "for city in cities:\n",
    "    \n",
    "    # Check first letter of city\n",
    "    if city[0].lower() == \"n\":\n",
    "        continue\n",
    "        \n",
    "    print(city)"
   ]
  },
  {
   "cell_type": "markdown",
   "metadata": {},
   "source": [
    "See the difference? \n",
    "\n",
    "* In the first example, the loop is terminated once a city starting with \"N\" is execute. \n",
    "* In the latter example, the \"N\" cities are skipped, but the rest of the loop finishes out."
   ]
  },
  {
   "cell_type": "markdown",
   "metadata": {},
   "source": [
    "## Now You\n",
    "-----------\n"
   ]
  },
  {
   "cell_type": "code",
   "execution_count": 7,
   "metadata": {},
   "outputs": [
    {
     "name": "stdout",
     "output_type": "stream",
     "text": [
      "Thunder\n",
      "Timberwolves\n",
      "Trailblazers\n",
      "Warriors\n",
      "Wizards\n"
     ]
    }
   ],
   "source": [
    "team_names = [\"Knicks\", \"Trailblazers\", \"Warriors\", \"Timberwolves\", \n",
    "              \"Celtics\", \"Clippers\", \"Raptors\", \"Thunder\", \"Wizards\"]\n",
    "\n",
    "team_names.sort()\n",
    "\n",
    "# Write a loop to print ONLY team names that begin with \"T\" or \"W\"\n"
   ]
  }
 ],
 "metadata": {
  "kernelspec": {
   "display_name": "Python 3",
   "language": "python",
   "name": "python3"
  },
  "language_info": {
   "codemirror_mode": {
    "name": "ipython",
    "version": 3
   },
   "file_extension": ".py",
   "mimetype": "text/x-python",
   "name": "python",
   "nbconvert_exporter": "python",
   "pygments_lexer": "ipython3",
   "version": "3.6.0"
  }
 },
 "nbformat": 4,
 "nbformat_minor": 2
}
