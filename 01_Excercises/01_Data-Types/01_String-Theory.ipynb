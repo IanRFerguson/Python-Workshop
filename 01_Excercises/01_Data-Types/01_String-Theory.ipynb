{
 "cells": [
  {
   "cell_type": "markdown",
   "metadata": {},
   "source": [
    "# String Theory\n",
    "----------------------\n",
    "This notebook will cover all things related to Pythonic strings"
   ]
  },
  {
   "cell_type": "code",
   "execution_count": 1,
   "metadata": {},
   "outputs": [
    {
     "name": "stdout",
     "output_type": "stream",
     "text": [
      "Hello world!\n"
     ]
    }
   ],
   "source": [
    "# Strings can use single- or double-quotes (but not interchangably)\n",
    "print(\"Hello world!\")"
   ]
  },
  {
   "cell_type": "code",
   "execution_count": 2,
   "metadata": {},
   "outputs": [
    {
     "name": "stdout",
     "output_type": "stream",
     "text": [
      "Hello world!\n"
     ]
    }
   ],
   "source": [
    "print('Hello world!')"
   ]
  },
  {
   "cell_type": "code",
   "execution_count": 3,
   "metadata": {},
   "outputs": [
    {
     "name": "stdout",
     "output_type": "stream",
     "text": [
      "\n",
      "This string will print on multiple lines.\n",
      "No need to write in any line breaks, since\n",
      "Python will print it exactly as is!\n",
      "\n"
     ]
    }
   ],
   "source": [
    "# Use three quotes to create a multi-line string\n",
    "# You can type freely until you write another set of three quotes\n",
    "\n",
    "my_line = \"\"\"\n",
    "This string will print on multiple lines.\n",
    "No need to write in any line breaks, since\n",
    "Python will print it exactly as is!\n",
    "\"\"\"\n",
    "\n",
    "print(my_line)"
   ]
  },
  {
   "cell_type": "markdown",
   "metadata": {},
   "source": [
    "## Now you!\n",
    "----------------"
   ]
  },
  {
   "cell_type": "code",
   "execution_count": null,
   "metadata": {},
   "outputs": [],
   "source": [
    "# Assign some text of your choice to the variable my_string\n",
    "my_string = "
   ]
  },
  {
   "cell_type": "code",
   "execution_count": null,
   "metadata": {},
   "outputs": [],
   "source": [
    "# What are your favorite song lyrics?\n",
    "# Assign them to the variable below\n",
    "# Then, print them out\n",
    "my_favorite_lyrics = "
   ]
  },
  {
   "cell_type": "markdown",
   "metadata": {},
   "source": [
    "## String Interpolation\n",
    "----------------------\n",
    "One major asset of Python strings is their ability to be *interpolated*, or concatenated (joined together). Let's work on some examples together"
   ]
  },
  {
   "cell_type": "code",
   "execution_count": 7,
   "metadata": {},
   "outputs": [],
   "source": [
    "# Three separate strings\n",
    "greeting = \"Hello\"\n",
    "name = \"Ian\"\n",
    "salutation = \"It's nice to meet you\""
   ]
  },
  {
   "cell_type": "markdown",
   "metadata": {},
   "source": [
    "We can quickly join these strings together with an addition operator (+)"
   ]
  },
  {
   "cell_type": "code",
   "execution_count": 8,
   "metadata": {},
   "outputs": [
    {
     "name": "stdout",
     "output_type": "stream",
     "text": [
      "HelloIanIt's nice to meet you\n"
     ]
    }
   ],
   "source": [
    "my_new_string = greeting + name + salutation\n",
    "\n",
    "print(my_new_string)"
   ]
  },
  {
   "cell_type": "markdown",
   "metadata": {},
   "source": [
    "Well, that's something! But why doesn't it look nicer? We have two options:\n",
    "<br>\n",
    "* Add formatting to the strings themselves (e.g., extra spaces, punctuation, etc.) <br>\n",
    "* Add the formatting *during* the interpolation\n",
    "<br> <br>\n",
    "Let's demonstrate what the latter looks like"
   ]
  },
  {
   "cell_type": "code",
   "execution_count": 9,
   "metadata": {},
   "outputs": [
    {
     "name": "stdout",
     "output_type": "stream",
     "text": [
      "Hello, Ian. It's nice to meet you!\n"
     ]
    }
   ],
   "source": [
    "my_formatted_string = greeting + \", \" + name + \". \" + salutation + \"!\"\n",
    "print(my_formatted_string)"
   ]
  },
  {
   "cell_type": "markdown",
   "metadata": {},
   "source": [
    "Much nicer! Notice the spacing after the punctuation? That'll be important whether you format the individual strings themselves, or the string you combine together. \n",
    "\n",
    "## Now you!\n",
    "-----------------\n",
    "**Practice** below by finishing this line of code:"
   ]
  },
  {
   "cell_type": "code",
   "execution_count": null,
   "metadata": {},
   "outputs": [],
   "source": [
    "# Finish this string\n",
    "my_name = \n",
    "\n",
    "my_greeting = \"Hi \" ...... \"It's nice to meet you!\"\n",
    "\n",
    "print(my_greeting)"
   ]
  },
  {
   "cell_type": "markdown",
   "metadata": {},
   "source": [
    "## Formatting Options\n",
    "------------------\n",
    "With the advent of Python 3, there are a number of options when it comes to string formatting. Let's cover the big ones.\n",
    "<br> <br>\n",
    "You can format a string inline (i.e., in the same cell) with a \"f\" between the print function and the quoation marks of the string..."
   ]
  },
  {
   "cell_type": "code",
   "execution_count": 10,
   "metadata": {},
   "outputs": [
    {
     "name": "stdout",
     "output_type": "stream",
     "text": [
      "I work at the Stanford Social Neuro Lab\n"
     ]
    }
   ],
   "source": [
    "# For example\n",
    "university = \"Stanford\"\n",
    "\n",
    "print(f\"I work at the {university} Social Neuro Lab\")"
   ]
  },
  {
   "cell_type": "markdown",
   "metadata": {},
   "source": [
    "This is my preferred method, but you can also use the .format() function at the end of the string to input fields as you go. <br>\n",
    "This is useful when you have multiple string interpolations.\n",
    "<br> <br>\n",
    "\n",
    "**Note** that the .format() call should go inside the closing print() parantheses"
   ]
  },
  {
   "cell_type": "code",
   "execution_count": 13,
   "metadata": {},
   "outputs": [
    {
     "name": "stdout",
     "output_type": "stream",
     "text": [
      "The Chicago Bulls won 6 NBA titles\n"
     ]
    }
   ],
   "source": [
    "print(\"The Chicago Bulls won {} NBA titles\".format(6))"
   ]
  },
  {
   "cell_type": "code",
   "execution_count": 14,
   "metadata": {},
   "outputs": [
    {
     "name": "stdout",
     "output_type": "stream",
     "text": [
      "My name is Ian and I am 25 years old\n"
     ]
    }
   ],
   "source": [
    "# You can input multiple spaces\n",
    "# Python will follow the order of inputs sequentially\n",
    "my_name = \"Ian\"\n",
    "my_age = 25\n",
    "\n",
    "print(\"My name is {} and I am {} years old\".format(my_name, my_age))"
   ]
  },
  {
   "cell_type": "markdown",
   "metadata": {},
   "source": [
    "## Now you!\n",
    "---------------"
   ]
  },
  {
   "cell_type": "code",
   "execution_count": null,
   "metadata": {},
   "outputs": [],
   "source": [
    "# Fill in the cell below\n",
    "# Use whichever string formatting method you like\n",
    "# Produce this output:\n",
    "\n",
    "# My name is NAME, and I'm AGE years old. I live in CITY and my favorite food is FOOD.\n",
    "\n",
    "my_name = \n",
    "my_age =\n",
    "my_city =\n",
    "my_food =\n",
    "\n",
    "my_string =\n",
    "\n",
    "print(my_string)"
   ]
  },
  {
   "cell_type": "markdown",
   "metadata": {},
   "source": [
    "## Putting it all together...\n",
    "-----------------\n",
    "This all sounds interesting on paper (I hope!) but how can we use these principles in our day-to-day programming? Well, imagine you have a participant's name and the time of their appointment. It's super easy to pull all of that information together, format it into a string, and then send it in an email! We'll cover that last part later"
   ]
  },
  {
   "cell_type": "code",
   "execution_count": 16,
   "metadata": {},
   "outputs": [
    {
     "name": "stdout",
     "output_type": "stream",
     "text": [
      "\n",
      "Hi Jamil!\n",
      "\n",
      "This is a reminder that you have an appointment with the Stanford Social Neuroscience Lab on Wednesday July 15th at 1:00 PM.\n",
      "\n",
      "Please reach me at this address if you have any questions. Thanks!\n",
      "\n"
     ]
    }
   ],
   "source": [
    "p_name = \"Jamil\"\n",
    "p_day = \"Wednesday July 15th\"\n",
    "p_time = \"1:00 PM\"\n",
    "\n",
    "my_message = (f\"\"\"\n",
    "Hi {p_name}!\n",
    "\n",
    "This is a reminder that you have an appointment with the Stanford Social Neuroscience Lab on {p_day} at {p_time}.\n",
    "\n",
    "Please reach me at this address if you have any questions. Thanks!\n",
    "\"\"\")\n",
    "\n",
    "print(my_message)"
   ]
  }
 ],
 "metadata": {
  "kernelspec": {
   "display_name": "Python 3",
   "language": "python",
   "name": "python3"
  },
  "language_info": {
   "codemirror_mode": {
    "name": "ipython",
    "version": 3
   },
   "file_extension": ".py",
   "mimetype": "text/x-python",
   "name": "python",
   "nbconvert_exporter": "python",
   "pygments_lexer": "ipython3",
   "version": "3.6.0"
  }
 },
 "nbformat": 4,
 "nbformat_minor": 2
}
