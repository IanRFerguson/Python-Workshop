{
 "cells": [
  {
   "cell_type": "markdown",
   "metadata": {},
   "source": [
    "# Understanding Lists\n",
    "--------------------------\n",
    "In Python, **lists** are a valuable means of storing data of different types. They are one-dimensional, but can be easily sorted and manipulated as you see fit. Lists are denoted with square brackets - [  ]; items within the list are separated with a comma."
   ]
  },
  {
   "cell_type": "code",
   "execution_count": 1,
   "metadata": {},
   "outputs": [],
   "source": [
    "# Example of a basic list with different data types\n",
    "my_list = [4, 5, \"Six\", 7.0]"
   ]
  },
  {
   "cell_type": "markdown",
   "metadata": {},
   "source": [
    "Easy enough!"
   ]
  },
  {
   "cell_type": "markdown",
   "metadata": {},
   "source": [
    "## List Functions\n",
    "---------------------\n",
    "Python has a number of useful, native list functions - in other words, you don't have to import any modules; the program will know how to handle the function just because it's a list object!\n",
    "\n",
    "<br> <br>\n",
    "Let's look at a few examples..."
   ]
  },
  {
   "cell_type": "code",
   "execution_count": 2,
   "metadata": {},
   "outputs": [
    {
     "name": "stdout",
     "output_type": "stream",
     "text": [
      "[1, 2, 3, 4, 5, 4]\n"
     ]
    }
   ],
   "source": [
    "# The .append() function adds something on to the end of a list\n",
    "example = [1,2,3,4,5]\n",
    "\n",
    "# Call the list.append( your input ) to add to the list\n",
    "example.append(4)\n",
    "\n",
    "# Print new list\n",
    "print(example)"
   ]
  },
  {
   "cell_type": "code",
   "execution_count": 3,
   "metadata": {},
   "outputs": [
    {
     "name": "stdout",
     "output_type": "stream",
     "text": [
      "['This is a list', 1, 2, 3, 4, 5, 4]\n"
     ]
    }
   ],
   "source": [
    "# The .insert() function does the same thing, but it allows you to pick your position\n",
    "# In other words, you don't have to add your item to the end of the list!\n",
    "example.insert(0, \"This is a list\")\n",
    "\n",
    "print(example)"
   ]
  },
  {
   "cell_type": "code",
   "execution_count": 4,
   "metadata": {},
   "outputs": [
    {
     "name": "stdout",
     "output_type": "stream",
     "text": [
      "[1, 2, 3, 4, 5, 4]\n"
     ]
    }
   ],
   "source": [
    "# Since we added a string to an otherwise all-numeric list, let's remove it\n",
    "# We can do this quickly with the .pop() function\n",
    "# Make sure to include a positional argument - this is the index!\n",
    "example.pop(0)\n",
    "\n",
    "print(example)"
   ]
  },
  {
   "cell_type": "code",
   "execution_count": 5,
   "metadata": {},
   "outputs": [
    {
     "name": "stdout",
     "output_type": "stream",
     "text": [
      "[1, 2, 3, 4, 4, 5]\n"
     ]
    }
   ],
   "source": [
    "# We can sort the list with .sort()\n",
    "example.sort()\n",
    "\n",
    "print(example)"
   ]
  },
  {
   "cell_type": "code",
   "execution_count": 6,
   "metadata": {},
   "outputs": [
    {
     "name": "stdout",
     "output_type": "stream",
     "text": [
      "[5, 4, 4, 3, 2, 1]\n"
     ]
    }
   ],
   "source": [
    "# We can reverse the order of a list with .reverse()\n",
    "example.reverse()\n",
    "\n",
    "print(example)"
   ]
  },
  {
   "cell_type": "code",
   "execution_count": 7,
   "metadata": {},
   "outputs": [
    {
     "name": "stdout",
     "output_type": "stream",
     "text": [
      "[]\n"
     ]
    }
   ],
   "source": [
    "# The .clear() function removes all items from a list\n",
    "example.clear()\n",
    "\n",
    "print(example)"
   ]
  },
  {
   "cell_type": "markdown",
   "metadata": {},
   "source": [
    "## Now You!\n",
    "----------------\n",
    "I'll provide a list for you; using what you've learned about functions, follow the instructions in each cell!"
   ]
  },
  {
   "cell_type": "code",
   "execution_count": 8,
   "metadata": {},
   "outputs": [],
   "source": [
    "# Your list to work with\n"
   ]
  },
  {
   "cell_type": "code",
   "execution_count": 9,
   "metadata": {},
   "outputs": [],
   "source": [
    "# Append the number 4 to the end of the list\n"
   ]
  },
  {
   "cell_type": "code",
   "execution_count": 10,
   "metadata": {},
   "outputs": [],
   "source": [
    "# Sort the list\n"
   ]
  },
  {
   "cell_type": "code",
   "execution_count": 11,
   "metadata": {},
   "outputs": [],
   "source": [
    "# Reverse the order of the list\n"
   ]
  },
  {
   "cell_type": "code",
   "execution_count": 12,
   "metadata": {},
   "outputs": [],
   "source": [
    "# Remove the first item in the list (hint: that's index position 0)\n"
   ]
  },
  {
   "cell_type": "code",
   "execution_count": 13,
   "metadata": {},
   "outputs": [],
   "source": [
    "# Print the result!\n"
   ]
  },
  {
   "cell_type": "markdown",
   "metadata": {},
   "source": [
    "## List Indexing\n",
    "--------------------\n",
    "This is a good opportunity to talk about indexing. An **index** is an item's relative position in an array, like a Pythonic list. In Python, indexing starts at 0 ... in other words, the first item is at index position 0, the second item is at index position 1, etc.\n",
    "<br> <br>\n",
    "You can call the index of a list with the format: **object[index position]**"
   ]
  },
  {
   "cell_type": "code",
   "execution_count": 15,
   "metadata": {},
   "outputs": [
    {
     "data": {
      "text/plain": [
       "'Wow'"
      ]
     },
     "execution_count": 15,
     "metadata": {},
     "output_type": "execute_result"
    }
   ],
   "source": [
    "example = [\"Wow\", \"What\", \"A\", \"Great\", \"Dog!\"]\n",
    "\n",
    "example[0]"
   ]
  },
  {
   "cell_type": "markdown",
   "metadata": {},
   "source": [
    "Unlike other languages, indexing in Python is bi-directional. In other words, you can easily call the last item in an array with **index = -1**"
   ]
  },
  {
   "cell_type": "code",
   "execution_count": 16,
   "metadata": {},
   "outputs": [
    {
     "data": {
      "text/plain": [
       "'Dog!'"
      ]
     },
     "execution_count": 16,
     "metadata": {},
     "output_type": "execute_result"
    }
   ],
   "source": [
    "example[-1]"
   ]
  },
  {
   "cell_type": "code",
   "execution_count": 17,
   "metadata": {},
   "outputs": [
    {
     "data": {
      "text/plain": [
       "'Great'"
      ]
     },
     "execution_count": 17,
     "metadata": {},
     "output_type": "execute_result"
    }
   ],
   "source": [
    "example[-2]"
   ]
  },
  {
   "cell_type": "markdown",
   "metadata": {},
   "source": [
    "## Now You!\n",
    "-----------------\n",
    "I'll provide the list, you do the rest!"
   ]
  },
  {
   "cell_type": "code",
   "execution_count": 18,
   "metadata": {},
   "outputs": [],
   "source": [
    "my_list = [\"Richmond\", \"Philadelphia\", \"Brooklyn\", \"San Francisco\", \"Portland\"]"
   ]
  },
  {
   "cell_type": "code",
   "execution_count": 19,
   "metadata": {},
   "outputs": [],
   "source": [
    "# Using indexing, print \"Richmond\" from the above list\n"
   ]
  },
  {
   "cell_type": "code",
   "execution_count": 20,
   "metadata": {},
   "outputs": [],
   "source": [
    "# Using indexing, print \"Brooklyn\" from the above list\n"
   ]
  },
  {
   "cell_type": "code",
   "execution_count": 21,
   "metadata": {},
   "outputs": [],
   "source": [
    "# Using indexing, print \"Portland\" from the above list\n"
   ]
  }
 ],
 "metadata": {
  "kernelspec": {
   "display_name": "Python 3",
   "language": "python",
   "name": "python3"
  },
  "language_info": {
   "codemirror_mode": {
    "name": "ipython",
    "version": 3
   },
   "file_extension": ".py",
   "mimetype": "text/x-python",
   "name": "python",
   "nbconvert_exporter": "python",
   "pygments_lexer": "ipython3",
   "version": "3.6.0"
  }
 },
 "nbformat": 4,
 "nbformat_minor": 2
}
