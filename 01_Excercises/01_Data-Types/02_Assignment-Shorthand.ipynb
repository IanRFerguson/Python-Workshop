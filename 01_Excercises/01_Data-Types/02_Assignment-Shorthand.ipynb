{
 "cells": [
  {
   "cell_type": "markdown",
   "metadata": {},
   "source": [
    "# Plus-Equals\n",
    "---------------------\n",
    "This will be a shorter notebook, but now that we've talked about strings and numeric data types we can talk about an important short-hand feature in Python: plus-equals.\n",
    "<br> <br>\n",
    "The plus-equals operator (+=) allows you to change the value of a variable using fewer lines of code. Let's see an example:"
   ]
  },
  {
   "cell_type": "code",
   "execution_count": 1,
   "metadata": {},
   "outputs": [
    {
     "name": "stdout",
     "output_type": "stream",
     "text": [
      "5\n"
     ]
    }
   ],
   "source": [
    "# Long-hand assignment\n",
    "value = 4\n",
    "value = value + 1\n",
    "\n",
    "print(value)"
   ]
  },
  {
   "cell_type": "markdown",
   "metadata": {},
   "source": [
    "Easy enough! But doesn't that second line seem somewhat redundant?\n",
    "<br> <br>\n",
    "**It is!** And it can be reduced with the plus-equals operator. See here:"
   ]
  },
  {
   "cell_type": "code",
   "execution_count": 2,
   "metadata": {},
   "outputs": [
    {
     "name": "stdout",
     "output_type": "stream",
     "text": [
      "5\n"
     ]
    }
   ],
   "source": [
    "# Short-hand assignment\n",
    "value = 4\n",
    "value += 1\n",
    "\n",
    "print(value)"
   ]
  },
  {
   "cell_type": "markdown",
   "metadata": {},
   "source": [
    "## Now You!\n",
    "----------------\n",
    "Fill in the example below using the plus-equals operator - make the value = 15 in one line, then print it out"
   ]
  },
  {
   "cell_type": "code",
   "execution_count": null,
   "metadata": {},
   "outputs": [],
   "source": [
    "value = 10\n",
    "# Write code here\n",
    "\n",
    "print(value)"
   ]
  },
  {
   "cell_type": "markdown",
   "metadata": {},
   "source": [
    "# Plus-Equals with Strings\n",
    "-----------------\n",
    "This short-hand is especially valuable in loops (we'll get to those). But another valuable feature of plus-equals is its ability to be used with strings. Let's look at an example:"
   ]
  },
  {
   "cell_type": "code",
   "execution_count": 3,
   "metadata": {},
   "outputs": [
    {
     "name": "stdout",
     "output_type": "stream",
     "text": [
      "Hello\n"
     ]
    }
   ],
   "source": [
    "my_string = \"Hello\"\n",
    "\n",
    "print(my_string)"
   ]
  },
  {
   "cell_type": "code",
   "execution_count": 4,
   "metadata": {},
   "outputs": [
    {
     "name": "stdout",
     "output_type": "stream",
     "text": [
      "Hello World!\n"
     ]
    }
   ],
   "source": [
    "# Use plus-equals to add to string\n",
    "my_string += \" World!\"\n",
    "\n",
    "print(my_string)"
   ]
  },
  {
   "cell_type": "markdown",
   "metadata": {},
   "source": [
    "I don't use plus-equals in this capacity much personally, but it's good to know that it's usable in this way.\n",
    "\n",
    "# Other Assignment Shorthands\n",
    "------------------------\n",
    "Just like we can add to a value with +=, we can apply other arithmetic operations with similar shorthand."
   ]
  },
  {
   "cell_type": "code",
   "execution_count": 5,
   "metadata": {},
   "outputs": [
    {
     "name": "stdout",
     "output_type": "stream",
     "text": [
      "3.0\n"
     ]
    }
   ],
   "source": [
    "value = 10\n",
    "\n",
    "# Subtract 3\n",
    "# value = value -3\n",
    "value -= 3\n",
    "\n",
    "# Multiply by 3\n",
    "# value = value * 3\n",
    "value *= 3\n",
    "\n",
    "# Divide by 7\n",
    "# value = value / 7\n",
    "value /= 7\n",
    "\n",
    "print(value)"
   ]
  },
  {
   "cell_type": "markdown",
   "metadata": {},
   "source": [
    "## Now You!\n",
    "-----------------\n",
    "Fill in the cells below using shorthand operations"
   ]
  },
  {
   "cell_type": "code",
   "execution_count": null,
   "metadata": {},
   "outputs": [],
   "source": [
    "# Expected output = 10\n",
    "my_value = 5\n",
    "...\n",
    "\n",
    "print(my_value)"
   ]
  },
  {
   "cell_type": "code",
   "execution_count": null,
   "metadata": {},
   "outputs": [],
   "source": [
    "# Expected output = 7\n",
    "my_value = 7\n",
    "...\n",
    "\n",
    "print(my_value)"
   ]
  },
  {
   "cell_type": "code",
   "execution_count": null,
   "metadata": {},
   "outputs": [],
   "source": [
    "# Expected output = 16\n",
    "my_value = 4\n",
    "...\n",
    "\n",
    "print(my_value)"
   ]
  }
 ],
 "metadata": {
  "kernelspec": {
   "display_name": "Python 3",
   "language": "python",
   "name": "python3"
  },
  "language_info": {
   "codemirror_mode": {
    "name": "ipython",
    "version": 3
   },
   "file_extension": ".py",
   "mimetype": "text/x-python",
   "name": "python",
   "nbconvert_exporter": "python",
   "pygments_lexer": "ipython3",
   "version": "3.6.0"
  }
 },
 "nbformat": 4,
 "nbformat_minor": 2
}
