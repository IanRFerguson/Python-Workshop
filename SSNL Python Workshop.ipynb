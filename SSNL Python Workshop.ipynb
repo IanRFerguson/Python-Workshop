{
 "cells": [
  {
   "cell_type": "markdown",
   "metadata": {},
   "source": [
    "<img src=\"https://www.python.org/static/community_logos/python-logo-master-v3-TM-flattened.png\" height=500>\n",
    "\n",
    "# SSNL Python Workshop\n",
    "-----------------\n",
    "\n",
    "### Table of Contents\n",
    "* Typing in Python\n",
    "* Data Types Overview\n",
    "* Pythonic Logic\n",
    "* Navigating Data\n",
    "* Loops\n",
    "* Functions\n"
   ]
  },
  {
   "cell_type": "markdown",
   "metadata": {},
   "source": [
    "<img src=\"https://i.ytimg.com/vi/yrw16gSTgpc/maxresdefault.jpg\" width=500>"
   ]
  },
  {
   "cell_type": "markdown",
   "metadata": {},
   "source": [
    "## Typing in Python\n",
    "------------------------\n",
    "Python is **dynamically-typed**, which means that you don't have to declare the data type of a variable prior to assigning it. \n",
    "<br><br>\n",
    "Let me show you the difference:"
   ]
  },
  {
   "cell_type": "markdown",
   "metadata": {},
   "source": [
    "**Declare a variable in Java** <br>\n",
    "int my_var = 45;\n",
    "\n",
    "**Declare a variable in JavaScript** <br>\n",
    "var my_var = 45;\n",
    "\n",
    "**Declare a variable in Python** <br>\n",
    "my_var = 45"
   ]
  },
  {
   "cell_type": "markdown",
   "metadata": {},
   "source": [
    "This has the added bonus of making variables very flexible, and easy to reassign (this can be a problem if you're not careful, but generally it's a really good thing)."
   ]
  },
  {
   "cell_type": "code",
   "execution_count": 8,
   "metadata": {},
   "outputs": [
    {
     "name": "stdout",
     "output_type": "stream",
     "text": [
      "Yes!\n"
     ]
    }
   ],
   "source": [
    "my_var = 1958\n",
    "\n",
    "my_var = \"Hi there\"\n",
    "\n",
    "my_var = \"Will this print?\"\n",
    "\n",
    "my_var = \"Yes!\"\n",
    "\n",
    "print(my_var)"
   ]
  },
  {
   "cell_type": "markdown",
   "metadata": {},
   "source": [
    "The other crucial component of Pythonic syntax is the **dot operator**. Without getting too in the weeds with classes and object-oriented programming, let's just say that \"objects\" in Python (e.g., assigned variables) have built-in attributes and functions depending on their data type (string vs. list vs. dictionary, etc).\n",
    "<br> <br>\n",
    "Let's use *my_var* as an example. Since it's a string (more on that later), we can call built-in string functions on it."
   ]
  },
  {
   "cell_type": "code",
   "execution_count": null,
   "metadata": {},
   "outputs": [],
   "source": [
    "my_var.upper()"
   ]
  },
  {
   "cell_type": "code",
   "execution_count": null,
   "metadata": {},
   "outputs": [],
   "source": [
    "my_var.lower()"
   ]
  },
  {
   "cell_type": "code",
   "execution_count": null,
   "metadata": {},
   "outputs": [],
   "source": [
    "my_var.replace(\"!\", \"?!?\")"
   ]
  },
  {
   "cell_type": "markdown",
   "metadata": {},
   "source": [
    "Crucially, in a jupter notebook (like this one) you can press \"TAB\" after the dot to see a list of functions/attributes built-in to your object."
   ]
  },
  {
   "cell_type": "code",
   "execution_count": null,
   "metadata": {},
   "outputs": [],
   "source": [
    "my_var."
   ]
  },
  {
   "cell_type": "markdown",
   "metadata": {},
   "source": [
    "## Data Types Overview\n",
    "------------------\n",
    "Now that we've touched on data types and objects briefly, let's compare the main data types relevant to our work in psychology and neuroscience:\n",
    "\n",
    "* Strings\n",
    "* Int\n",
    "* Float\n",
    "* Boolean\n",
    "\n",
    "And for folks with background experience in R, there are several array-based data structures as well:\n",
    "* Lists\n",
    "* Dictionaries\n",
    "* DataFrames\n",
    "\n",
    "\n",
    "### Strings\n",
    "------------------"
   ]
  },
  {
   "cell_type": "code",
   "execution_count": null,
   "metadata": {},
   "outputs": [],
   "source": [
    "# Strings can be assigned with \" \" or ' ' marks\n",
    "my_string = \"Hey there!\"\n",
    "\n",
    "my_string2 = 'This works too!'"
   ]
  },
  {
   "cell_type": "code",
   "execution_count": null,
   "metadata": {},
   "outputs": [],
   "source": [
    "print(my_string)"
   ]
  },
  {
   "cell_type": "code",
   "execution_count": null,
   "metadata": {},
   "outputs": [],
   "source": [
    "print(my_string2)"
   ]
  },
  {
   "cell_type": "code",
   "execution_count": null,
   "metadata": {},
   "outputs": [],
   "source": [
    "# Useful built-in string functions\n",
    "\n",
    "# Print length of string\n",
    "len(my_string)"
   ]
  },
  {
   "cell_type": "code",
   "execution_count": null,
   "metadata": {},
   "outputs": [],
   "source": [
    "spaced_out = \"   This has a lot of space   \"\n",
    "\n",
    "# Strip out extraneous spaces (Good practice for participant responses)\n",
    "spaced_out.strip()"
   ]
  },
  {
   "cell_type": "code",
   "execution_count": null,
   "metadata": {},
   "outputs": [],
   "source": [
    "name = \"John doe\"\n",
    "\n",
    "name.title()"
   ]
  },
  {
   "cell_type": "markdown",
   "metadata": {},
   "source": [
    "### Combining Strings\n",
    "-------------\n",
    "There are a bunch of ways to combine two strings, or add to a string, but I'm going to focus on one primary method."
   ]
  },
  {
   "cell_type": "code",
   "execution_count": 5,
   "metadata": {},
   "outputs": [
    {
     "name": "stdout",
     "output_type": "stream",
     "text": [
      "What's up \n"
     ]
    }
   ],
   "source": [
    "start = \"What's up \"\n",
    "\n",
    "print(start)"
   ]
  },
  {
   "cell_type": "code",
   "execution_count": 6,
   "metadata": {},
   "outputs": [
    {
     "name": "stdout",
     "output_type": "stream",
     "text": [
      "What's up my dudes!\n"
     ]
    }
   ],
   "source": [
    "print(start + \"my dudes!\")"
   ]
  },
  {
   "cell_type": "code",
   "execution_count": 7,
   "metadata": {},
   "outputs": [
    {
     "name": "stdout",
     "output_type": "stream",
     "text": [
      "What's upPatrick\n"
     ]
    }
   ],
   "source": [
    "# Bad example!\n",
    "start = \"What's up\"\n",
    "\n",
    "print(start + \"Patrick\")"
   ]
  },
  {
   "cell_type": "markdown",
   "metadata": {},
   "source": [
    "### Numeric Data Types\n",
    "-----------------\n",
    "There are two numeric data types in Python - **int** and **float**. Very simply, int objects are whole numbers and float objects have decimal places built in."
   ]
  },
  {
   "cell_type": "code",
   "execution_count": null,
   "metadata": {},
   "outputs": [],
   "source": [
    "int_example = 46\n",
    "\n",
    "float_example = 46.45\n",
    "\n",
    "print(int_example)"
   ]
  },
  {
   "cell_type": "code",
   "execution_count": null,
   "metadata": {},
   "outputs": [],
   "source": [
    "print(float_example)"
   ]
  },
  {
   "cell_type": "markdown",
   "metadata": {},
   "source": [
    "You can convert one numeric type to the other, but keep in mind that you'll have to round a float value to do so."
   ]
  },
  {
   "cell_type": "code",
   "execution_count": null,
   "metadata": {},
   "outputs": [],
   "source": [
    "int(float_example)"
   ]
  },
  {
   "cell_type": "markdown",
   "metadata": {},
   "source": [
    "You can apply mathematical operators to numeric data types. Most of them are pretty intuitive."
   ]
  },
  {
   "cell_type": "code",
   "execution_count": null,
   "metadata": {},
   "outputs": [],
   "source": [
    "a = 5\n",
    "b = 2"
   ]
  },
  {
   "cell_type": "code",
   "execution_count": null,
   "metadata": {},
   "outputs": [],
   "source": [
    "# Addition\n",
    "a + b"
   ]
  },
  {
   "cell_type": "code",
   "execution_count": null,
   "metadata": {},
   "outputs": [],
   "source": [
    "# Subtraction\n",
    "a - b"
   ]
  },
  {
   "cell_type": "code",
   "execution_count": null,
   "metadata": {},
   "outputs": [],
   "source": [
    "# Multiplication\n",
    "a * b"
   ]
  },
  {
   "cell_type": "code",
   "execution_count": null,
   "metadata": {},
   "outputs": [],
   "source": [
    "# Division - Note that this returns a float\n",
    "a / b"
   ]
  },
  {
   "cell_type": "code",
   "execution_count": null,
   "metadata": {},
   "outputs": [],
   "source": [
    "# Mod divison - Think of this as \"remainder divison\"\n",
    "a % b"
   ]
  },
  {
   "cell_type": "code",
   "execution_count": null,
   "metadata": {},
   "outputs": [],
   "source": [
    "# Exponents\n",
    "a ** b"
   ]
  },
  {
   "cell_type": "markdown",
   "metadata": {},
   "source": [
    "### Booleans\n",
    "-------------\n",
    "Booleans are binary, logical values in Python. We use them mostly for control flow throughout a program.\n",
    "<br> <br>\n",
    "*What does that mean?*\n",
    "<br><br>\n",
    "We use Booleans (0/1 or False/True) to decide which part of a program executes. To do this, we use **comparison operators**, which compare two expressions. This is kind of abstract, let's demonstrate:"
   ]
  },
  {
   "cell_type": "code",
   "execution_count": null,
   "metadata": {},
   "outputs": [],
   "source": [
    "# We know that 4 equals 4, intuitively\n",
    "# We use the comparison operator ' == ' to return the Boolean outcome of that expression\n",
    "\n",
    "4 == 4"
   ]
  },
  {
   "cell_type": "code",
   "execution_count": null,
   "metadata": {},
   "outputs": [],
   "source": [
    "# We know that 4 is not equal to 5\n",
    "# We use ' != ' to return the Boolean outcome of this expression\n",
    "\n",
    "4 != 5"
   ]
  },
  {
   "cell_type": "code",
   "execution_count": null,
   "metadata": {},
   "outputs": [],
   "source": [
    "# What about False values?\n",
    "# Does 4 equal 5?\n",
    "\n",
    "4 == 5"
   ]
  },
  {
   "cell_type": "code",
   "execution_count": null,
   "metadata": {},
   "outputs": [],
   "source": [
    "# Do Booleans only apply to numeric values?\n",
    "\n",
    "test_value = \"Hello\"\n",
    "\n",
    "test_value == \"Hello\""
   ]
  },
  {
   "cell_type": "code",
   "execution_count": null,
   "metadata": {},
   "outputs": [],
   "source": [
    "test_value == \"hello\""
   ]
  },
  {
   "cell_type": "code",
   "execution_count": null,
   "metadata": {},
   "outputs": [],
   "source": [
    "test_value != \"Hello\""
   ]
  },
  {
   "cell_type": "markdown",
   "metadata": {},
   "source": [
    "When can we use Boolean values in the flow of a Python script?\n",
    "<br> <br>\n",
    "I'm glad you asked!\n",
    "\n",
    "## Pythonic Logic\n",
    "---------------\n",
    "Python uses If/Else logic like other C-based languages. Let's start with **IF** ....\n",
    "<br><br>\n",
    "### If Statements\n",
    "-------------\n",
    "An If statement starts with the word \"if\", and is followed by a logical expression to be evaluated. If that expression equates to \"True\", the code in the If statement will execute. If not, the code will not execute. Let's look at an example!"
   ]
  },
  {
   "cell_type": "code",
   "execution_count": null,
   "metadata": {},
   "outputs": [],
   "source": [
    "test_value = 50\n",
    "\n",
    "# Evaluate statement with IF\n",
    "if (test_value > 20):\n",
    "    print(\"Your value is greater than 20\")"
   ]
  },
  {
   "cell_type": "markdown",
   "metadata": {},
   "source": [
    "The indentation is important - anything indented under **if** will be included if it executes."
   ]
  },
  {
   "cell_type": "code",
   "execution_count": null,
   "metadata": {},
   "outputs": [],
   "source": [
    "if (test_value != 49.5):\n",
    "    print(\"Your value is not 49.5\")\n",
    "    print(\"What is your number?\")\n",
    "    print(\"I'm really not sure...\")"
   ]
  },
  {
   "cell_type": "markdown",
   "metadata": {},
   "source": [
    "### Else Statements\n",
    "------------\n",
    "In case the if statement evaluates to False, we want to have another block of code that will execute. This is called an **else** block, and it must come after the if block."
   ]
  },
  {
   "cell_type": "code",
   "execution_count": null,
   "metadata": {},
   "outputs": [],
   "source": [
    "test_value = 14\n",
    "\n",
    "if (test_value == 13.5):\n",
    "    print(\"The number is 13.5\")\n",
    "    \n",
    "else:\n",
    "    print(\"This number is NOT 13.5\")"
   ]
  },
  {
   "cell_type": "markdown",
   "metadata": {},
   "source": [
    "Note that you don't need any kind of expression evaluation for the else block - when the if block evaluates to True, the else block will execute its code."
   ]
  },
  {
   "cell_type": "markdown",
   "metadata": {},
   "source": [
    "### Elif Statements\n",
    "----------------"
   ]
  },
  {
   "cell_type": "code",
   "execution_count": null,
   "metadata": {},
   "outputs": [],
   "source": [
    "test_value = 20\n",
    "\n",
    "if (test_value > 10):\n",
    "    print(\"Greater than 10\")\n",
    "    \n",
    "if (test_value > 15):\n",
    "    print(\"Greater than 15\")\n",
    "    \n",
    "if (test_value == 20):\n",
    "    print(\"Equals 20\")"
   ]
  },
  {
   "cell_type": "code",
   "execution_count": null,
   "metadata": {},
   "outputs": [],
   "source": [
    "test_value = 20\n",
    "\n",
    "if (test_value > 10):\n",
    "    print(\"Greater than 10\")\n",
    "    \n",
    "elif (test_value > 15):\n",
    "    print(\"Greater than 15\")\n",
    "    \n",
    "elif (test_value == 20):\n",
    "    print(\"Equals 20\")"
   ]
  },
  {
   "cell_type": "code",
   "execution_count": null,
   "metadata": {},
   "outputs": [],
   "source": [
    "test_value = 20\n",
    "\n",
    "if (test_value <= 10):\n",
    "    print(\"Less than or equal to 10\")\n",
    "    \n",
    "elif (test_value <= 15):\n",
    "    print(\"Less than or equal to 15\")\n",
    "    \n",
    "elif (test_value <= 20):\n",
    "    print(\"Less than or equal to 20\")"
   ]
  },
  {
   "cell_type": "markdown",
   "metadata": {},
   "source": [
    "## Data Structures\n",
    "---------------\n",
    "Python has multiple data structures that are very effective at storing and organizing data. We'll talk about mutable data structures in this workshop (i.e., those that *can* be modified after being defined).\n",
    "<br> <br>\n",
    "Advanced data structures include Arrays, DataFrames, and Series, all of which are **not** native to Python. These are important to data analysis and machine learning, and I'm glad to talk about them outside of this workshop!\n",
    "\n",
    "### Lists\n",
    "-----------\n",
    "* Lists are one-dimensional data structures that can contain multiple data types\n",
    "* You can have a list of strings, numeric values, Boolean values, or a mix of all of the above\n",
    "* Lists are always defined with square brackets - [  ]"
   ]
  },
  {
   "cell_type": "code",
   "execution_count": null,
   "metadata": {},
   "outputs": [],
   "source": [
    "# These are all valid lists\n",
    "\n",
    "lst1 = []\n",
    "\n",
    "lst2 = [\"Stanford\", \"Social\", \"Neuroscience\", \"Lab\"]\n",
    "\n",
    "lst3 = [[1, 2, 3], [4, 5, 6], [7, 8, 9]]"
   ]
  },
  {
   "cell_type": "code",
   "execution_count": null,
   "metadata": {},
   "outputs": [],
   "source": [
    "# List to practice on\n",
    "cities = [\"Philadelphia\", \"Richmond\", \"Brooklyn\", \"San Francisco\"]\n",
    "\n",
    "# Show length of list\n",
    "len(cities)"
   ]
  },
  {
   "cell_type": "code",
   "execution_count": null,
   "metadata": {},
   "outputs": [],
   "source": [
    "# .append() adds something on to the end of a list\n",
    "cities.append(\"Chicago\")\n",
    "\n",
    "cities"
   ]
  },
  {
   "cell_type": "code",
   "execution_count": null,
   "metadata": {},
   "outputs": [],
   "source": [
    "# .insert() takes two arguments\n",
    "# 1. Index 2. Value (More on indexing shortly!)\n",
    "cities.insert(2, \"Washington, D.C.\")\n",
    "\n",
    "cities"
   ]
  },
  {
   "cell_type": "code",
   "execution_count": null,
   "metadata": {},
   "outputs": [],
   "source": [
    "# Use concatenation to add multiple items to the end of a list\n",
    "cities = cities + [\"Portland\", \"Atlanta\"]\n",
    "\n",
    "cities"
   ]
  },
  {
   "cell_type": "code",
   "execution_count": null,
   "metadata": {},
   "outputs": [],
   "source": [
    "# .sort() will sort the list inplace\n",
    "# In other words, you dont' have to reassign the list to another variable\n",
    "cities.sort()\n",
    "\n",
    "cities"
   ]
  },
  {
   "cell_type": "code",
   "execution_count": null,
   "metadata": {},
   "outputs": [],
   "source": [
    "# sorted() will NOT sort the list inplace\n",
    "# In other words, you must assign this list to another variable to keep your changes\n",
    "cities_sorted = sorted(cities)\n",
    "\n",
    "cities_sorted"
   ]
  },
  {
   "cell_type": "markdown",
   "metadata": {},
   "source": [
    "### Dictionaries\n",
    "------------\n",
    "* Dictionaries are built on **key-value** pairs\n",
    "* Think of a key as a column header\n",
    "* Values can be single items, or a list of items\n",
    "* Dictionaries are always defined with curly brackets - {  }\n",
    "* Keys and Values are separated with a colon\n",
    "* Separate key-value pairs are separated with a comma"
   ]
  },
  {
   "cell_type": "code",
   "execution_count": null,
   "metadata": {},
   "outputs": [],
   "source": [
    "d1 = {\"Name\": \"Kevin Durant\", \"Height\":82, \"Weight\":240}"
   ]
  },
  {
   "cell_type": "code",
   "execution_count": null,
   "metadata": {},
   "outputs": [],
   "source": [
    "# .items() returns the key-value pairs for the dictionary\n",
    "d1.items()"
   ]
  },
  {
   "cell_type": "code",
   "execution_count": null,
   "metadata": {},
   "outputs": [],
   "source": [
    "# Or else you can get the keys and values separately\n",
    "d1.values()"
   ]
  },
  {
   "cell_type": "code",
   "execution_count": null,
   "metadata": {},
   "outputs": [],
   "source": [
    "d1.keys()"
   ]
  },
  {
   "cell_type": "markdown",
   "metadata": {},
   "source": [
    "Accessing dictionaries...."
   ]
  },
  {
   "cell_type": "code",
   "execution_count": null,
   "metadata": {},
   "outputs": [],
   "source": [
    "d1[\"Name\"]"
   ]
  },
  {
   "cell_type": "code",
   "execution_count": null,
   "metadata": {},
   "outputs": [],
   "source": [
    "d1[\"Height\"]"
   ]
  },
  {
   "cell_type": "code",
   "execution_count": null,
   "metadata": {},
   "outputs": [],
   "source": [
    "d1[\"Titles Won\"]"
   ]
  },
  {
   "cell_type": "markdown",
   "metadata": {},
   "source": [
    "## Navigating Data\n",
    "-----------------\n",
    "\n",
    "### Indexing\n",
    "------------\n",
    "* Indexing is a means of referring to a data point by its relative position in a data structure\n",
    "* Python is a **zero-based indexing** language - that means that first item == Index 0 (Note: this is different than R)\n",
    "* Indexing syntax: list[desired index]\n",
    "\n",
    "Imagine that you're serving on a jury - when the judge says \"Juror 7\", you know they are referring to you."
   ]
  },
  {
   "cell_type": "code",
   "execution_count": null,
   "metadata": {},
   "outputs": [],
   "source": [
    "cities"
   ]
  },
  {
   "cell_type": "code",
   "execution_count": null,
   "metadata": {},
   "outputs": [],
   "source": [
    "# What is going to print out here?\n",
    "cities[1]"
   ]
  },
  {
   "cell_type": "code",
   "execution_count": null,
   "metadata": {},
   "outputs": [],
   "source": [
    "# What about here?\n",
    "cities[0]"
   ]
  },
  {
   "cell_type": "code",
   "execution_count": null,
   "metadata": {},
   "outputs": [],
   "source": [
    "# What about here?\n",
    "cities[-1]"
   ]
  },
  {
   "cell_type": "markdown",
   "metadata": {},
   "source": [
    "### Slicing\n",
    "------------\n",
    "* Slicing lets you index multiple data points at once\n",
    "* Slicing syntax: list[starting index:ending index]\n",
    "* Note that slicing is **non-inclusive** ... in other words, the ending index value will not be included in the output\n",
    "\n",
    "Following the analogy above, when the judge says \"Jurors 5 through 12\" you know that you are included in that selection of jurors."
   ]
  },
  {
   "cell_type": "code",
   "execution_count": null,
   "metadata": {},
   "outputs": [],
   "source": [
    "cities[1:3]"
   ]
  },
  {
   "cell_type": "code",
   "execution_count": null,
   "metadata": {},
   "outputs": [],
   "source": [
    "cities[0:1]"
   ]
  },
  {
   "cell_type": "markdown",
   "metadata": {},
   "source": [
    "If zero is either the starting or ending index, you don't need to explicitly state it."
   ]
  },
  {
   "cell_type": "code",
   "execution_count": null,
   "metadata": {},
   "outputs": [],
   "source": [
    "cities[:3]"
   ]
  },
  {
   "cell_type": "code",
   "execution_count": null,
   "metadata": {},
   "outputs": [],
   "source": [
    "cities[-2:]"
   ]
  },
  {
   "cell_type": "markdown",
   "metadata": {},
   "source": [
    "## Loops\n",
    "----------\n",
    "Virtually every language has syntax for a **loop** - this is a statement that executes for a variable amount of time. <br><br>\n",
    "The two main loops we'll discuss are:\n",
    "* For loops\n",
    "* While loops\n",
    "\n",
    "### For Loops\n",
    "------------\n",
    "* A **for loop** executes over a sequence - this can be a string, a list, a dictionary, etc.\n",
    "* The syntax for a Pythonic for loop == **for VALUE in SEQUENCE**\n",
    "* The VALUE keyword can be virtually anything (it's best for it to be a relevant variable name)\n"
   ]
  },
  {
   "cell_type": "code",
   "execution_count": null,
   "metadata": {},
   "outputs": [],
   "source": [
    "for city in cities:\n",
    "    print(city)"
   ]
  },
  {
   "cell_type": "code",
   "execution_count": null,
   "metadata": {},
   "outputs": [],
   "source": [
    "# Combine a for loop with logic\n",
    "for city in cities:\n",
    "    \n",
    "    if city[0] == \"P\":\n",
    "        print(city)"
   ]
  },
  {
   "cell_type": "markdown",
   "metadata": {},
   "source": [
    "Two keywords to keep in mind when it comes to **for loops** ....\n",
    "* **break** = If this keyword is executed, you'll immediately exit the loop\n",
    "* **continue** = If this keyword is executed, you'll skip over this iteration and go on to the next"
   ]
  },
  {
   "cell_type": "code",
   "execution_count": null,
   "metadata": {},
   "outputs": [],
   "source": [
    "# Break example\n",
    "for city in cities:\n",
    "    \n",
    "    if city[0] == \"P\":\n",
    "        break\n",
    "        \n",
    "    print(city)"
   ]
  },
  {
   "cell_type": "code",
   "execution_count": null,
   "metadata": {},
   "outputs": [],
   "source": [
    "# Continue example\n",
    "for city in cities:\n",
    "    \n",
    "    if city[0] == \"P\":\n",
    "        continue\n",
    "        \n",
    "    print(city)"
   ]
  },
  {
   "cell_type": "markdown",
   "metadata": {},
   "source": [
    "Note how important the structure of a loop is - what would happen if the print statement came before the logic?"
   ]
  },
  {
   "cell_type": "code",
   "execution_count": null,
   "metadata": {},
   "outputs": [],
   "source": [
    "for city in cities:\n",
    "    \n",
    "    print(city)\n",
    "    \n",
    "    if city[0] == \"P\":\n",
    "        continue"
   ]
  },
  {
   "cell_type": "markdown",
   "metadata": {},
   "source": [
    "### While Loops\n",
    "-----------\n",
    "A **while loop** will continue to execute as long as a check statement is True.\n",
    "<br><br>\n",
    "It's super important to make sure that the loop will *eventually evaluate as False* - otherwise you'll create an infinite loop that will never close! Whoa!"
   ]
  },
  {
   "cell_type": "code",
   "execution_count": null,
   "metadata": {},
   "outputs": [],
   "source": [
    "index = 0\n",
    "\n",
    "while index <= 10:\n",
    "    print(\"In a while loop, talk to you later\")\n",
    "    index += 1  # What would happen if we didn't add to this value?"
   ]
  },
  {
   "cell_type": "markdown",
   "metadata": {},
   "source": [
    "## Functions\n",
    "--------------\n",
    "A **function** is a block of code that only runs when it is called\n",
    "\n",
    "* Functions are defined with the keyword **def**\n",
    "* They can take *n*-number of parameters\n",
    "* You can **return** values from a function, or they can operate in place"
   ]
  },
  {
   "cell_type": "code",
   "execution_count": 1,
   "metadata": {},
   "outputs": [],
   "source": [
    "def myFirstFunction():\n",
    "    \n",
    "    message = \"Hello World!\"\n",
    "    \n",
    "    return message"
   ]
  },
  {
   "cell_type": "code",
   "execution_count": 2,
   "metadata": {},
   "outputs": [
    {
     "name": "stdout",
     "output_type": "stream",
     "text": [
      "Hello World!\n"
     ]
    }
   ],
   "source": [
    "print(myFirstFunction())"
   ]
  },
  {
   "cell_type": "code",
   "execution_count": 3,
   "metadata": {},
   "outputs": [],
   "source": [
    "# Example using parameters\n",
    "def sayHi(name):\n",
    "    \n",
    "    message = \"What's up \" + name + \"!\"\n",
    "    return message"
   ]
  },
  {
   "cell_type": "code",
   "execution_count": 4,
   "metadata": {},
   "outputs": [
    {
     "name": "stdout",
     "output_type": "stream",
     "text": [
      "What's up Joe Biden!\n"
     ]
    }
   ],
   "source": [
    "print(sayHi(\"Joe Biden\"))"
   ]
  },
  {
   "cell_type": "markdown",
   "metadata": {},
   "source": [
    "## Our First Program\n",
    "-------------------"
   ]
  },
  {
   "cell_type": "code",
   "execution_count": null,
   "metadata": {},
   "outputs": [],
   "source": [
    "# Fill in list of attendees\n",
    "names = []\n",
    "\n",
    "# Compliment each person on their successes!\n",
    "def goodWork(----):\n",
    "    \n",
    "    message = \n",
    "    \n",
    "    return message\n",
    "\n",
    "# Loop through names and congratulate them!\n",
    "for --- in ---:\n",
    "    ----"
   ]
  },
  {
   "cell_type": "markdown",
   "metadata": {},
   "source": [
    "# WE MADE IT!\n",
    "\n",
    "For more practice, check out the [GitHub Repo](https://github.com/IanRFerguson/Python-Workshop/tree/master/01_Excercises) that I made for this workshop"
   ]
  }
 ],
 "metadata": {
  "kernelspec": {
   "display_name": "Python 3",
   "language": "python",
   "name": "python3"
  },
  "language_info": {
   "codemirror_mode": {
    "name": "ipython",
    "version": 3
   },
   "file_extension": ".py",
   "mimetype": "text/x-python",
   "name": "python",
   "nbconvert_exporter": "python",
   "pygments_lexer": "ipython3",
   "version": "3.6.0"
  }
 },
 "nbformat": 4,
 "nbformat_minor": 2
}
