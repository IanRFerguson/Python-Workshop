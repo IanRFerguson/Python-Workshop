{
 "cells": [
  {
   "cell_type": "markdown",
   "metadata": {},
   "source": [
    "![](https://www.python.org/static/community_logos/python-logo-master-v3-TM.png)"
   ]
  },
  {
   "cell_type": "markdown",
   "metadata": {},
   "source": [
    "# Functions\n",
    "-----------------\n",
    "Functions are a literal gamechanger, and the longer you program in Python the more you'll use custom and built-in functions. Let's start with some great built-in functions, how they work, and when to use them.\n",
    "<br> <br>\n",
    "\n",
    "## Built-In Functions\n",
    "-----------------------\n",
    "We've talked about some of these already - let's see how we can apply them to numeric lists.\n",
    "![](https://i.stack.imgur.com/LxITc.png)"
   ]
  },
  {
   "cell_type": "code",
   "execution_count": 1,
   "metadata": {},
   "outputs": [],
   "source": [
    "numeric_list = [33, 9, 823, 2.3]"
   ]
  },
  {
   "cell_type": "code",
   "execution_count": 2,
   "metadata": {},
   "outputs": [
    {
     "data": {
      "text/plain": [
       "823"
      ]
     },
     "execution_count": 2,
     "metadata": {},
     "output_type": "execute_result"
    }
   ],
   "source": [
    "# Print maximum value\n",
    "max(numeric_list)"
   ]
  },
  {
   "cell_type": "code",
   "execution_count": 3,
   "metadata": {},
   "outputs": [
    {
     "data": {
      "text/plain": [
       "2.3"
      ]
     },
     "execution_count": 3,
     "metadata": {},
     "output_type": "execute_result"
    }
   ],
   "source": [
    "# Print minimum value\n",
    "min(numeric_list)"
   ]
  },
  {
   "cell_type": "code",
   "execution_count": 4,
   "metadata": {},
   "outputs": [
    {
     "data": {
      "text/plain": [
       "867.3"
      ]
     },
     "execution_count": 4,
     "metadata": {},
     "output_type": "execute_result"
    }
   ],
   "source": [
    "# Print sum of numeric list\n",
    "sum(numeric_list)"
   ]
  },
  {
   "cell_type": "code",
   "execution_count": 7,
   "metadata": {},
   "outputs": [
    {
     "data": {
      "text/plain": [
       "867"
      ]
     },
     "execution_count": 7,
     "metadata": {},
     "output_type": "execute_result"
    }
   ],
   "source": [
    "# Round to nearest whole number\n",
    "round(sum(numeric_list))"
   ]
  },
  {
   "cell_type": "markdown",
   "metadata": {},
   "source": [
    "-----------------------\n",
    "We'll give <b>open( )</b> it's own category in this tutorial, because it's rad as hell. You can open an existing text file, open a new text file, open a csv, write to a file, etc. The options are virtually endless!"
   ]
  },
  {
   "cell_type": "code",
   "execution_count": 9,
   "metadata": {},
   "outputs": [],
   "source": [
    "# You'll see a new file populate in your directory\n",
    "new_file = open(\"Test.txt\", \"w+\")\n",
    "\n",
    "# Write a new line\n",
    "new_file.write(\"Hey howdy!\\n\")\n",
    "\n",
    "# Close the connection\n",
    "new_file.close()"
   ]
  },
  {
   "cell_type": "markdown",
   "metadata": {},
   "source": [
    "---------------\n",
    "We can save user input to an object using the <b>input( )</b> function. This works at the command line too!"
   ]
  },
  {
   "cell_type": "code",
   "execution_count": 10,
   "metadata": {},
   "outputs": [
    {
     "name": "stdout",
     "output_type": "stream",
     "text": [
      "How's your day today?\tPretty good\n"
     ]
    }
   ],
   "source": [
    "simon_says = input(\"How's your day today?\\t\")"
   ]
  },
  {
   "cell_type": "code",
   "execution_count": 11,
   "metadata": {},
   "outputs": [
    {
     "name": "stdout",
     "output_type": "stream",
     "text": [
      "Simon says: Pretty good\n"
     ]
    }
   ],
   "source": [
    "print(\"Simon says: \" + simon_says)"
   ]
  },
  {
   "cell_type": "markdown",
   "metadata": {},
   "source": [
    "The other functions in the table above are super useful in their own right, [CLICK HERE](https://docs.python.org/3/library/functions.html) for a more thorough documentation\n",
    "\n",
    "## Custom Functions\n",
    "-----------------------\n",
    "You can write your own functions, and they can do ~literally~ whatever you want. Python forever. Let's break these down into two types of custom functions:\n",
    "\n",
    "<br>\n",
    "1. Return functions <br>\n",
    "2. Non-return functions \n",
    "<br> <br>\n",
    "\n",
    "**Return Functions** do what they sound like they do; they create an object, and the results can be assigned to a variable. Let's work through an example together - writing a function starts with <b>def function_name( arguments ):</b>"
   ]
  },
  {
   "cell_type": "code",
   "execution_count": 12,
   "metadata": {},
   "outputs": [],
   "source": [
    "def my_first_function():\n",
    "    \n",
    "    message = \"Hello world!\"\n",
    "    \n",
    "    return message"
   ]
  },
  {
   "cell_type": "markdown",
   "metadata": {},
   "source": [
    "You can call this function by itself, or assign it to a new object"
   ]
  },
  {
   "cell_type": "code",
   "execution_count": 15,
   "metadata": {},
   "outputs": [
    {
     "data": {
      "text/plain": [
       "'Hello world!'"
      ]
     },
     "execution_count": 15,
     "metadata": {},
     "output_type": "execute_result"
    }
   ],
   "source": [
    "my_first_function()"
   ]
  },
  {
   "cell_type": "code",
   "execution_count": 16,
   "metadata": {},
   "outputs": [
    {
     "data": {
      "text/plain": [
       "'Hello world!'"
      ]
     },
     "execution_count": 16,
     "metadata": {},
     "output_type": "execute_result"
    }
   ],
   "source": [
    "new_object = my_first_function()\n",
    "\n",
    "new_object"
   ]
  },
  {
   "cell_type": "markdown",
   "metadata": {},
   "source": [
    "What if we didn't want to return anything at all?"
   ]
  },
  {
   "cell_type": "code",
   "execution_count": 19,
   "metadata": {},
   "outputs": [
    {
     "name": "stdout",
     "output_type": "stream",
     "text": [
      "Hello world!\n"
     ]
    }
   ],
   "source": [
    "def my_second_func():\n",
    "    \n",
    "    print(\"Hello world!\")\n",
    "    \n",
    "    \n",
    "my_second_func()"
   ]
  },
  {
   "cell_type": "markdown",
   "metadata": {},
   "source": [
    "Notice that it prints without the enclosing quoation marks - this is technically more proper, but I am a devout \"function over fashion\" believer.\n",
    "\n",
    "--------\n",
    "We can also build a function with default arguments, which are accessible within the function itself."
   ]
  },
  {
   "cell_type": "code",
   "execution_count": 20,
   "metadata": {},
   "outputs": [],
   "source": [
    "def add_a_cowboy(LIST):\n",
    "    \n",
    "    # In this function, we must pass in a pre-defined list prior to calling it\n",
    "    \n",
    "    LIST.append(\"Yeehaw!\")"
   ]
  },
  {
   "cell_type": "code",
   "execution_count": 21,
   "metadata": {},
   "outputs": [
    {
     "data": {
      "text/plain": [
       "['Random', 'List', 'Of', 'Things']"
      ]
     },
     "execution_count": 21,
     "metadata": {},
     "output_type": "execute_result"
    }
   ],
   "source": [
    "# Create a new list\n",
    "my_list = [\"Random\", \"List\", \"Of\", \"Things\"]\n",
    "\n",
    "my_list"
   ]
  },
  {
   "cell_type": "code",
   "execution_count": 22,
   "metadata": {},
   "outputs": [
    {
     "data": {
      "text/plain": [
       "['Random', 'List', 'Of', 'Things', 'Yeehaw!']"
      ]
     },
     "execution_count": 22,
     "metadata": {},
     "output_type": "execute_result"
    }
   ],
   "source": [
    "# Apply our function with the new list as an argument\n",
    "add_a_cowboy(my_list)\n",
    "\n",
    "my_list"
   ]
  },
  {
   "cell_type": "code",
   "execution_count": null,
   "metadata": {},
   "outputs": [],
   "source": []
  }
 ],
 "metadata": {
  "kernelspec": {
   "display_name": "Python 3",
   "language": "python",
   "name": "python3"
  },
  "language_info": {
   "codemirror_mode": {
    "name": "ipython",
    "version": 3
   },
   "file_extension": ".py",
   "mimetype": "text/x-python",
   "name": "python",
   "nbconvert_exporter": "python",
   "pygments_lexer": "ipython3",
   "version": "3.6.0"
  }
 },
 "nbformat": 4,
 "nbformat_minor": 2
}
