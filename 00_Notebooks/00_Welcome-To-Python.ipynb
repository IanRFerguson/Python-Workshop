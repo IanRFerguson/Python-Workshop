{
 "cells": [
  {
   "cell_type": "markdown",
   "metadata": {},
   "source": [
    "![](https://www.python.org/static/community_logos/python-logo-master-v3-TM.png)"
   ]
  },
  {
   "cell_type": "markdown",
   "metadata": {},
   "source": [
    "# Welcome to Python!\n",
    "-------------------\n",
    "Howdy scholar! Welcome to the wonderful world of Pythonic programming. While I am no expert, this tutorial is intended to offer you an introduction to the language. You'll never look back!\n",
    "\n",
    "<br> <br>\n",
    "Some common (and not so common) uses of Python include: <br>\n",
    "* Data visualization\n",
    "* Machine Learning\n",
    "* Web scraping\n",
    "* fMRI analysis\n",
    "* Sending human beings to space (that's true)\n",
    "* Automation, bots, the future??\n",
    "\n",
    "<br> <br>\n",
    "This tutorial will help you get set up on your local machine, so you can follow along in further lessons!"
   ]
  },
  {
   "cell_type": "markdown",
   "metadata": {},
   "source": [
    "## Installing Python\n",
    "-----------------------\n",
    "You have two solid install options. While my experience is primarily on Mac OSX / Unix machines, Python and its relational frameworks are widely available and functional across Unix and Windows operating systems.\n",
    "\n",
    "**Option 1** <br>\n",
    "Go to [Python.org](https://www.python.org/) and follow the download instructions for your operating system. This will include the Python installer, as well as pip (a command line tool that allows you to install + upgrade Python packages ... but more on that later). Next, you'll want to go to the [Project Jupyter](https://jupyter.org/install) page and install Jupyter at the command line. This will allow you to use Jupyter Lab and Jupyter Notebook (like what we're using now!)\n",
    "<br> <br>\n",
    "At the command line... <br>"
   ]
  },
  {
   "cell_type": "code",
   "execution_count": null,
   "metadata": {},
   "outputs": [],
   "source": [
    "pip install notebook\n",
    "pip install jupyterlab"
   ]
  },
  {
   "cell_type": "markdown",
   "metadata": {},
   "source": [
    "**Option 2** <br>\n",
    "Install the [Anaconda Distribution](https://www.anaconda.com/products/individual), which includes Python, Jupyter, and several crucial packages. It's optimized for data science, which may be handy considering your personal interests. However, there is nothing in this distribution that you can't also install with pip. *Sooooo*, it is entirely up to you!\n",
    "<br> <br>\n",
    "At the command line..."
   ]
  },
  {
   "cell_type": "code",
   "execution_count": null,
   "metadata": {},
   "outputs": [],
   "source": [
    "conda install -c conda-forge jupyter lab\n",
    "conda install -c conda-forge notebook"
   ]
  },
  {
   "cell_type": "markdown",
   "metadata": {},
   "source": [
    "You can easily launch a Jupyter notebook from the command line. You'll have access to your system's directory hierarchy, so you can easily write a notebook in a distinct folder or directory as you see fit.\n",
    "<br> <br>\n",
    "At the command line..."
   ]
  },
  {
   "cell_type": "code",
   "execution_count": null,
   "metadata": {},
   "outputs": [],
   "source": [
    "jupyter notebook"
   ]
  },
  {
   "cell_type": "markdown",
   "metadata": {},
   "source": [
    "## Check Your Installation\n",
    "-----------------------\n",
    "At the command line, type in the following:\n",
    "<br> <br>\n",
    "**python --version**\n",
    "<br> <br>\n",
    "You should see \"Python 3.X.X\" (depending on when you install). And that means you're all set and ready to rock with Python!\n",
    "\n",
    "<br> <br> <br>\n",
    "\n",
    "## Go You!!!\n",
    "<img src=https://media.spokesman.com/photos/2020/02/14/Star_Dunk_Contest_Basketball.JPG.jpg width=500>"
   ]
  }
 ],
 "metadata": {
  "kernelspec": {
   "display_name": "Python 3",
   "language": "python",
   "name": "python3"
  },
  "language_info": {
   "codemirror_mode": {
    "name": "ipython",
    "version": 3
   },
   "file_extension": ".py",
   "mimetype": "text/x-python",
   "name": "python",
   "nbconvert_exporter": "python",
   "pygments_lexer": "ipython3",
   "version": "3.6.0"
  }
 },
 "nbformat": 4,
 "nbformat_minor": 2
}
