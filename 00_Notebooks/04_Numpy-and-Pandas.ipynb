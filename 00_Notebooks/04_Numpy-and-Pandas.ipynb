{
 "cells": [
  {
   "cell_type": "markdown",
   "metadata": {},
   "source": [
    "![](https://www.python.org/static/community_logos/python-logo-master-v3-TM.png)"
   ]
  },
  {
   "cell_type": "markdown",
   "metadata": {},
   "source": [
    "Learning pandas and numpy are arguably the most important things you can do to boost your data analysis stock.\n",
    "<br> <br>\n",
    "**Pandas** is a flexible, powerful package that allows the programmer to import, shape, and analyze data quickly and with very little code. Using Series and DataFrame objects, you can sort and organize data in a breeze. [READ THE DOCS](https://pandas.pydata.org/docs/)\n",
    "<br> <br>\n",
    "**Numpy** is the foundational statistical / quantitative analysis package in Python. Calculate distribution metrics, IQR, random arrays, etc. [READ THE DOCS](https://numpy.org/doc/stable/)\n",
    "<br> <br>\n",
    "If you haven't installed these packages already, type in \"pip install pandas\" and \"pip install numpy\" at the command line (or \"conda install pandas\" and \"conda install numpy\" from the Anaconda distribution)."
   ]
  },
  {
   "cell_type": "code",
   "execution_count": 1,
   "metadata": {},
   "outputs": [],
   "source": [
    "# Import the packages into Jupyter notebook\n",
    "# We'll use aliases to avoid lots of typing\n",
    "import pandas as pd\n",
    "import numpy as np"
   ]
  },
  {
   "cell_type": "markdown",
   "metadata": {},
   "source": [
    "## Basic Numpy\n",
    "------------\n",
    "If you're coming from R, NumPy won't seem too foreign. It's based on **vectors** and **matrices** (the difference being 1-dimension vs. 2-dimension). Let's demonstrate the difference by converting a Python list to a NumPy vector."
   ]
  },
  {
   "cell_type": "code",
   "execution_count": 2,
   "metadata": {},
   "outputs": [
    {
     "data": {
      "text/plain": [
       "array([ 4,  7, 15,  6])"
      ]
     },
     "execution_count": 2,
     "metadata": {},
     "output_type": "execute_result"
    }
   ],
   "source": [
    "vector = [4, 7, 15, 6]\n",
    "\n",
    "# Convert to NumPy array\n",
    "vector = np.array(vector)\n",
    "\n",
    "vector"
   ]
  },
  {
   "cell_type": "markdown",
   "metadata": {},
   "source": [
    "Now that it's in array form, we can apply NumPy computations to it"
   ]
  },
  {
   "cell_type": "code",
   "execution_count": 3,
   "metadata": {},
   "outputs": [
    {
     "data": {
      "text/plain": [
       "8.0"
      ]
     },
     "execution_count": 3,
     "metadata": {},
     "output_type": "execute_result"
    }
   ],
   "source": [
    "np.mean(vector)"
   ]
  },
  {
   "cell_type": "markdown",
   "metadata": {},
   "source": [
    "We can also reshape it, to convert it to a 2x2 matrix"
   ]
  },
  {
   "cell_type": "code",
   "execution_count": 4,
   "metadata": {},
   "outputs": [
    {
     "data": {
      "text/plain": [
       "array([[ 4,  7],\n",
       "       [15,  6]])"
      ]
     },
     "execution_count": 4,
     "metadata": {},
     "output_type": "execute_result"
    }
   ],
   "source": [
    "matrix = np.reshape(vector, (2,2))\n",
    "\n",
    "matrix"
   ]
  },
  {
   "cell_type": "code",
   "execution_count": 5,
   "metadata": {},
   "outputs": [
    {
     "data": {
      "text/plain": [
       "array([[ 4],\n",
       "       [ 7],\n",
       "       [15],\n",
       "       [ 6]])"
      ]
     },
     "execution_count": 5,
     "metadata": {},
     "output_type": "execute_result"
    }
   ],
   "source": [
    "tall_vector = np.reshape(matrix, (4,1))\n",
    "\n",
    "tall_vector"
   ]
  },
  {
   "cell_type": "markdown",
   "metadata": {},
   "source": [
    "You can also start out with the matrix (no need to make a list first)"
   ]
  },
  {
   "cell_type": "code",
   "execution_count": 7,
   "metadata": {},
   "outputs": [
    {
     "data": {
      "text/plain": [
       "array([[1, 2, 3],\n",
       "       [4, 5, 6]])"
      ]
     },
     "execution_count": 7,
     "metadata": {},
     "output_type": "execute_result"
    }
   ],
   "source": [
    "my_matrix = np.array([[1,2,3], [4,5,6]])\n",
    "\n",
    "my_matrix"
   ]
  },
  {
   "cell_type": "markdown",
   "metadata": {},
   "source": [
    "Python interprets the end of each list as the start of a new dimension (in this case, a new row in the 2-D matrix)"
   ]
  },
  {
   "cell_type": "markdown",
   "metadata": {},
   "source": [
    "## Basic Pandas\n",
    "------------\n",
    "Pandas is very basically a souped-up version of Excel with a zillion more features (it's way more than that, but we'll get there). I use Pandas mostly to store data in easy-to-navigate objects, often times in tabular form (like a CSV or Excel sheet). However, the first Pandas data type we'll discuss is a **series**.\n",
    "\n",
    "### Series\n",
    "--------"
   ]
  },
  {
   "cell_type": "code",
   "execution_count": 8,
   "metadata": {},
   "outputs": [
    {
     "data": {
      "text/plain": [
       "0    Washington, D.C.\n",
       "1            Richmond\n",
       "2            Brooklyn\n",
       "3       San Francisco\n",
       "dtype: object"
      ]
     },
     "execution_count": 8,
     "metadata": {},
     "output_type": "execute_result"
    }
   ],
   "source": [
    "# Imagine a Series == One column of an Excel sheet\n",
    "my_list = [\"Washington, D.C.\", \"Richmond\", \"Brooklyn\", \"San Francisco\"]\n",
    "\n",
    "pd.Series(data=my_list)"
   ]
  },
  {
   "cell_type": "code",
   "execution_count": 9,
   "metadata": {},
   "outputs": [
    {
     "data": {
      "text/plain": [
       "First     Washington, D.C.\n",
       "Second            Richmond\n",
       "Third             Brooklyn\n",
       "Fourth       San Francisco\n",
       "dtype: object"
      ]
     },
     "execution_count": 9,
     "metadata": {},
     "output_type": "execute_result"
    }
   ],
   "source": [
    "# You can replace the index values easily as well\n",
    "labels = [\"First\", \"Second\", \"Third\", \"Fourth\"]\n",
    "\n",
    "pd.Series(data=my_list, index=labels)"
   ]
  },
  {
   "cell_type": "code",
   "execution_count": 10,
   "metadata": {},
   "outputs": [
    {
     "data": {
      "text/plain": [
       "1    Washington, D.C.\n",
       "2            Richmond\n",
       "3            Brooklyn\n",
       "4       San Francisco\n",
       "dtype: object"
      ]
     },
     "execution_count": 10,
     "metadata": {},
     "output_type": "execute_result"
    }
   ],
   "source": [
    "# You can determine the index values within the Series call as well\n",
    "\n",
    "pd.Series(data=my_list, index=[1,2,3,4])"
   ]
  },
  {
   "cell_type": "code",
   "execution_count": 12,
   "metadata": {},
   "outputs": [
    {
     "data": {
      "text/plain": [
       "Washington, D.C.    5\n",
       "Richmond            7\n",
       "Brooklyn            7\n",
       "San Francisco       9\n",
       "dtype: int64"
      ]
     },
     "execution_count": 12,
     "metadata": {},
     "output_type": "execute_result"
    }
   ],
   "source": [
    "# You can perform computations across Series as well\n",
    "\n",
    "series1 = pd.Series(data=[4,5,6,7], index=my_list)\n",
    "series2 = pd.Series(data=[1,2,1,2], index=my_list)\n",
    "\n",
    "series1 + series2"
   ]
  },
  {
   "cell_type": "markdown",
   "metadata": {},
   "source": [
    "### Data Frames\n",
    "---------\n",
    "This is the real money maker. When you imagine tabular data in a CSV or Excel sheet, you're picturing the visual representation of a Data Frame. \n",
    "<br> <br>\n",
    "Let's explore..."
   ]
  },
  {
   "cell_type": "code",
   "execution_count": 13,
   "metadata": {},
   "outputs": [
    {
     "data": {
      "text/html": [
       "<div>\n",
       "<style scoped>\n",
       "    .dataframe tbody tr th:only-of-type {\n",
       "        vertical-align: middle;\n",
       "    }\n",
       "\n",
       "    .dataframe tbody tr th {\n",
       "        vertical-align: top;\n",
       "    }\n",
       "\n",
       "    .dataframe thead th {\n",
       "        text-align: right;\n",
       "    }\n",
       "</style>\n",
       "<table border=\"1\" class=\"dataframe\">\n",
       "  <thead>\n",
       "    <tr style=\"text-align: right;\">\n",
       "      <th></th>\n",
       "      <th>L</th>\n",
       "      <th>M</th>\n",
       "      <th>N</th>\n",
       "      <th>O</th>\n",
       "    </tr>\n",
       "  </thead>\n",
       "  <tbody>\n",
       "    <tr>\n",
       "      <th>A</th>\n",
       "      <td>0.117932</td>\n",
       "      <td>-1.189490</td>\n",
       "      <td>-1.238757</td>\n",
       "      <td>-2.223633</td>\n",
       "    </tr>\n",
       "    <tr>\n",
       "      <th>B</th>\n",
       "      <td>-0.841645</td>\n",
       "      <td>-0.062229</td>\n",
       "      <td>0.610884</td>\n",
       "      <td>-1.017243</td>\n",
       "    </tr>\n",
       "    <tr>\n",
       "      <th>C</th>\n",
       "      <td>-0.534026</td>\n",
       "      <td>0.955982</td>\n",
       "      <td>-0.115022</td>\n",
       "      <td>-0.535981</td>\n",
       "    </tr>\n",
       "    <tr>\n",
       "      <th>D</th>\n",
       "      <td>0.344370</td>\n",
       "      <td>-0.662984</td>\n",
       "      <td>-0.973008</td>\n",
       "      <td>-1.728365</td>\n",
       "    </tr>\n",
       "  </tbody>\n",
       "</table>\n",
       "</div>"
      ],
      "text/plain": [
       "          L         M         N         O\n",
       "A  0.117932 -1.189490 -1.238757 -2.223633\n",
       "B -0.841645 -0.062229  0.610884 -1.017243\n",
       "C -0.534026  0.955982 -0.115022 -0.535981\n",
       "D  0.344370 -0.662984 -0.973008 -1.728365"
      ]
     },
     "execution_count": 13,
     "metadata": {},
     "output_type": "execute_result"
    }
   ],
   "source": [
    "# Make a dataframe of random numbers, for presentation purposes\n",
    "from numpy.random import randn\n",
    "\n",
    "df = pd.DataFrame(randn(4,4), index=[\"A\", \"B\", \"C\", \"D\"], columns=[\"L\", \"M\", \"N\", \"O\"])\n",
    "\n",
    "df"
   ]
  },
  {
   "cell_type": "markdown",
   "metadata": {},
   "source": [
    "Not too shabby! We can grab (or \"slice\") columns/rows of interest with very basic syntax"
   ]
  },
  {
   "cell_type": "code",
   "execution_count": 14,
   "metadata": {},
   "outputs": [
    {
     "data": {
      "text/plain": [
       "A    0.117932\n",
       "B   -0.841645\n",
       "C   -0.534026\n",
       "D    0.344370\n",
       "Name: L, dtype: float64"
      ]
     },
     "execution_count": 14,
     "metadata": {},
     "output_type": "execute_result"
    }
   ],
   "source": [
    "# Grab the \"L\" column\n",
    "df[\"L\"]"
   ]
  },
  {
   "cell_type": "code",
   "execution_count": 15,
   "metadata": {},
   "outputs": [
    {
     "data": {
      "text/html": [
       "<div>\n",
       "<style scoped>\n",
       "    .dataframe tbody tr th:only-of-type {\n",
       "        vertical-align: middle;\n",
       "    }\n",
       "\n",
       "    .dataframe tbody tr th {\n",
       "        vertical-align: top;\n",
       "    }\n",
       "\n",
       "    .dataframe thead th {\n",
       "        text-align: right;\n",
       "    }\n",
       "</style>\n",
       "<table border=\"1\" class=\"dataframe\">\n",
       "  <thead>\n",
       "    <tr style=\"text-align: right;\">\n",
       "      <th></th>\n",
       "      <th>L</th>\n",
       "      <th>O</th>\n",
       "    </tr>\n",
       "  </thead>\n",
       "  <tbody>\n",
       "    <tr>\n",
       "      <th>A</th>\n",
       "      <td>0.117932</td>\n",
       "      <td>-2.223633</td>\n",
       "    </tr>\n",
       "    <tr>\n",
       "      <th>B</th>\n",
       "      <td>-0.841645</td>\n",
       "      <td>-1.017243</td>\n",
       "    </tr>\n",
       "    <tr>\n",
       "      <th>C</th>\n",
       "      <td>-0.534026</td>\n",
       "      <td>-0.535981</td>\n",
       "    </tr>\n",
       "    <tr>\n",
       "      <th>D</th>\n",
       "      <td>0.344370</td>\n",
       "      <td>-1.728365</td>\n",
       "    </tr>\n",
       "  </tbody>\n",
       "</table>\n",
       "</div>"
      ],
      "text/plain": [
       "          L         O\n",
       "A  0.117932 -2.223633\n",
       "B -0.841645 -1.017243\n",
       "C -0.534026 -0.535981\n",
       "D  0.344370 -1.728365"
      ]
     },
     "execution_count": 15,
     "metadata": {},
     "output_type": "execute_result"
    }
   ],
   "source": [
    "# Grab the \"L\" and \"O\" columns\n",
    "# NOTE the double brackets required here\n",
    "df[[\"L\", \"O\"]]"
   ]
  },
  {
   "cell_type": "markdown",
   "metadata": {},
   "source": [
    "We can quickly add a new column, the same way that we'd add a new key to a dictionary"
   ]
  },
  {
   "cell_type": "code",
   "execution_count": 18,
   "metadata": {},
   "outputs": [
    {
     "data": {
      "text/html": [
       "<div>\n",
       "<style scoped>\n",
       "    .dataframe tbody tr th:only-of-type {\n",
       "        vertical-align: middle;\n",
       "    }\n",
       "\n",
       "    .dataframe tbody tr th {\n",
       "        vertical-align: top;\n",
       "    }\n",
       "\n",
       "    .dataframe thead th {\n",
       "        text-align: right;\n",
       "    }\n",
       "</style>\n",
       "<table border=\"1\" class=\"dataframe\">\n",
       "  <thead>\n",
       "    <tr style=\"text-align: right;\">\n",
       "      <th></th>\n",
       "      <th>L</th>\n",
       "      <th>M</th>\n",
       "      <th>N</th>\n",
       "      <th>O</th>\n",
       "      <th>NEW GUY</th>\n",
       "    </tr>\n",
       "  </thead>\n",
       "  <tbody>\n",
       "    <tr>\n",
       "      <th>A</th>\n",
       "      <td>0.117932</td>\n",
       "      <td>-1.189490</td>\n",
       "      <td>-1.238757</td>\n",
       "      <td>-2.223633</td>\n",
       "      <td>-1.133487</td>\n",
       "    </tr>\n",
       "    <tr>\n",
       "      <th>B</th>\n",
       "      <td>-0.841645</td>\n",
       "      <td>-0.062229</td>\n",
       "      <td>0.610884</td>\n",
       "      <td>-1.017243</td>\n",
       "      <td>-0.327558</td>\n",
       "    </tr>\n",
       "    <tr>\n",
       "      <th>C</th>\n",
       "      <td>-0.534026</td>\n",
       "      <td>0.955982</td>\n",
       "      <td>-0.115022</td>\n",
       "      <td>-0.535981</td>\n",
       "      <td>-0.057262</td>\n",
       "    </tr>\n",
       "    <tr>\n",
       "      <th>D</th>\n",
       "      <td>0.344370</td>\n",
       "      <td>-0.662984</td>\n",
       "      <td>-0.973008</td>\n",
       "      <td>-1.728365</td>\n",
       "      <td>-0.754997</td>\n",
       "    </tr>\n",
       "  </tbody>\n",
       "</table>\n",
       "</div>"
      ],
      "text/plain": [
       "          L         M         N         O   NEW GUY\n",
       "A  0.117932 -1.189490 -1.238757 -2.223633 -1.133487\n",
       "B -0.841645 -0.062229  0.610884 -1.017243 -0.327558\n",
       "C -0.534026  0.955982 -0.115022 -0.535981 -0.057262\n",
       "D  0.344370 -0.662984 -0.973008 -1.728365 -0.754997"
      ]
     },
     "execution_count": 18,
     "metadata": {},
     "output_type": "execute_result"
    }
   ],
   "source": [
    "# Assign new column as row mean (hence axis=1)\n",
    "# If (axis=0) you would get column means\n",
    "df[\"NEW GUY\"] = df.mean(axis=1)\n",
    "\n",
    "df"
   ]
  },
  {
   "cell_type": "code",
   "execution_count": null,
   "metadata": {},
   "outputs": [],
   "source": []
  }
 ],
 "metadata": {
  "kernelspec": {
   "display_name": "Python 3",
   "language": "python",
   "name": "python3"
  },
  "language_info": {
   "codemirror_mode": {
    "name": "ipython",
    "version": 3
   },
   "file_extension": ".py",
   "mimetype": "text/x-python",
   "name": "python",
   "nbconvert_exporter": "python",
   "pygments_lexer": "ipython3",
   "version": "3.6.0"
  }
 },
 "nbformat": 4,
 "nbformat_minor": 2
}
