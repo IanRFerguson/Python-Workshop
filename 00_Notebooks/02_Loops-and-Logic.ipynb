{
 "cells": [
  {
   "cell_type": "markdown",
   "metadata": {},
   "source": [
    "![](https://www.python.org/static/community_logos/python-logo-master-v3-TM.png)"
   ]
  },
  {
   "cell_type": "markdown",
   "metadata": {},
   "source": [
    "# Loops\n",
    "------------\n",
    "Unlike other languages written in C (Java, JS, C++, etc.) Python doesn't require much when it comes to writing loops. The most common type of loop is a **for loop**, and luckily for us Python makes it very easy.\n",
    "<br> <br>\n",
    "A for loop basically says \"for every instance, perform an action\". If you write \"for (x) in (list)\", you'll perform an action for every item in that list."
   ]
  },
  {
   "cell_type": "code",
   "execution_count": 1,
   "metadata": {},
   "outputs": [
    {
     "name": "stdout",
     "output_type": "stream",
     "text": [
      "Stanford\n",
      "Social\n",
      "Neuroscience\n",
      "Lab\n"
     ]
    }
   ],
   "source": [
    "new_list = [\"Stanford\", \"Social\", \"Neuroscience\", \"Lab\"]\n",
    "\n",
    "for item in new_list:\n",
    "    \n",
    "    print(item)"
   ]
  },
  {
   "cell_type": "markdown",
   "metadata": {},
   "source": [
    "for (x) in (list) can be anything ... you can say \"for VITAMIN in (list)\" and it will execute. What's important is that \"VITAMIN\" is also used in the body of the loop."
   ]
  },
  {
   "cell_type": "code",
   "execution_count": 2,
   "metadata": {},
   "outputs": [
    {
     "name": "stdout",
     "output_type": "stream",
     "text": [
      "Stanford\n",
      "Social\n",
      "Neuroscience\n",
      "Lab\n"
     ]
    }
   ],
   "source": [
    "for VITAMIN in new_list:\n",
    "    \n",
    "    print(VITAMIN)"
   ]
  },
  {
   "cell_type": "markdown",
   "metadata": {},
   "source": [
    "The body of the for loop can do essentially whatever you want it to - you can add to another list, add to a dictionary, perform operations on numeric values, determine if a value matches a set of criteria, etc.\n",
    "\n",
    "<br>\n",
    "\n",
    "-------------\n",
    "\n",
    "The other main loop style that you'll use in Python is the **while loop**. Essentially, this loop executes until a determined condition is met (hint: this is where we'll really start using explicit Boolean logic - i.e., True / False)."
   ]
  },
  {
   "cell_type": "code",
   "execution_count": 3,
   "metadata": {},
   "outputs": [
    {
     "name": "stdout",
     "output_type": "stream",
     "text": [
      "0\n",
      "1\n",
      "2\n",
      "3\n",
      "4\n",
      "5\n",
      "6\n",
      "7\n",
      "8\n",
      "9\n"
     ]
    }
   ],
   "source": [
    "num = 0\n",
    "\n",
    "while num < 10:\n",
    "    \n",
    "    print(num)\n",
    "    \n",
    "    num += 1                     # Shorthand iteration operator num = num + 1"
   ]
  },
  {
   "cell_type": "markdown",
   "metadata": {},
   "source": [
    "**What's happening here?** Well, in every instance of the loop Python is checking if the condition is met.\n",
    "\n",
    "<br>\n",
    "num = 0 ... is that less than 10? True, execute loop <br>\n",
    "num = 1 ... is that less than 10? True, execute loop <br>\n",
    "...... <br>\n",
    "num = 9 ... is that less than 10? True, execute loop <br>\n",
    "num = 10 ... is that less than 10? <b>False</b>, terminate loop <br>\n",
    "\n",
    "<br>\n",
    "What you want to avoid is an <b>infinite loop</b>, which occurs when you define a while loop that will always be true. For instance, if you forgot to add an iterator (i.e., num always equals 0) then the loop would go on and on and on and on and ... ok, you get it.\n",
    "\n",
    "# Logic\n",
    "-----------\n",
    "Now let's talk about logic. Functionally, Pythonic logic is based in Boolean True/False comparison operators. As we saw in the while loop example, this logic can be performed implictly. <br> <br>\n",
    "\n",
    "![](https://cdn.educba.com/academy/wp-content/uploads/2019/09/Python-Comparison-Operators-1.png)"
   ]
  },
  {
   "cell_type": "code",
   "execution_count": 4,
   "metadata": {},
   "outputs": [
    {
     "data": {
      "text/plain": [
       "True"
      ]
     },
     "execution_count": 4,
     "metadata": {},
     "output_type": "execute_result"
    }
   ],
   "source": [
    "1 == 1"
   ]
  },
  {
   "cell_type": "code",
   "execution_count": 5,
   "metadata": {},
   "outputs": [
    {
     "data": {
      "text/plain": [
       "False"
      ]
     },
     "execution_count": 5,
     "metadata": {},
     "output_type": "execute_result"
    }
   ],
   "source": [
    "1 == 2"
   ]
  },
  {
   "cell_type": "code",
   "execution_count": 6,
   "metadata": {},
   "outputs": [
    {
     "data": {
      "text/plain": [
       "False"
      ]
     },
     "execution_count": 6,
     "metadata": {},
     "output_type": "execute_result"
    }
   ],
   "source": [
    "1 > 2"
   ]
  },
  {
   "cell_type": "code",
   "execution_count": 7,
   "metadata": {},
   "outputs": [
    {
     "data": {
      "text/plain": [
       "True"
      ]
     },
     "execution_count": 7,
     "metadata": {},
     "output_type": "execute_result"
    }
   ],
   "source": [
    "1 > 0"
   ]
  },
  {
   "cell_type": "code",
   "execution_count": 8,
   "metadata": {},
   "outputs": [
    {
     "name": "stdout",
     "output_type": "stream",
     "text": [
      "The number is 10\n",
      "The number is 9\n",
      "The number is 8\n"
     ]
    }
   ],
   "source": [
    "index = 10\n",
    "\n",
    "# While index IS NOT EQUAL TO 7 ...\n",
    "\n",
    "while index != 7:\n",
    "    \n",
    "    print(\"The number is \" + str(index))    # Explicit cast to string\n",
    "    \n",
    "    index -= 1    # Shorthand for index = index - 1"
   ]
  },
  {
   "cell_type": "markdown",
   "metadata": {},
   "source": [
    "--------------\n",
    "Another important syntax of note in Python is the **if/elif/else** block. The same Boolean logic applies here under the hood."
   ]
  },
  {
   "cell_type": "markdown",
   "metadata": {},
   "source": [
    "if (something is true):\n",
    "    \n",
    "    do something\n",
    "    \n",
    "else:\n",
    "    \n",
    "    do something different\n",
    "    \n",
    "<br>\n",
    "Let's combine this principle with a while loop to really demonstrate what it can do."
   ]
  },
  {
   "cell_type": "code",
   "execution_count": 11,
   "metadata": {},
   "outputs": [
    {
     "name": "stdout",
     "output_type": "stream",
     "text": [
      "1\t\tOdd Number\n",
      "2\t\tEven Number\n",
      "3\t\tOdd Number\n",
      "4\t\tEven Number\n",
      "5\t\tOdd Number\n",
      "6\t\tEven Number\n",
      "7\t\tOdd Number\n",
      "8\t\tEven Number\n",
      "9\t\tOdd Number\n",
      "10\t\tEven Number\n"
     ]
    }
   ],
   "source": [
    "index = 1\n",
    "\n",
    "# Loop will not exceed 10\n",
    "while index <= 10:\n",
    "    \n",
    "    # If remainder of (value / 2) = 0 ...\n",
    "    if index % 2 == 0:\n",
    "        \n",
    "        print(str(index) + \"\\t\\tEven Number\")\n",
    "    \n",
    "    # Otherwise ...\n",
    "    else:\n",
    "        print(str(index) + \"\\t\\tOdd Number\")\n",
    "        \n",
    "    index += 1"
   ]
  },
  {
   "cell_type": "markdown",
   "metadata": {},
   "source": [
    "That's it for now, great work!"
   ]
  }
 ],
 "metadata": {
  "kernelspec": {
   "display_name": "Python 3",
   "language": "python",
   "name": "python3"
  },
  "language_info": {
   "codemirror_mode": {
    "name": "ipython",
    "version": 3
   },
   "file_extension": ".py",
   "mimetype": "text/x-python",
   "name": "python",
   "nbconvert_exporter": "python",
   "pygments_lexer": "ipython3",
   "version": "3.6.0"
  }
 },
 "nbformat": 4,
 "nbformat_minor": 2
}
