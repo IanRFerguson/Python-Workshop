{
 "cells": [
  {
   "cell_type": "markdown",
   "metadata": {},
   "source": [
    "# Pairwise Stimuli\n",
    "---------------\n",
    "Automation in Python is simple and takes very little code to accomplish. In this case, \"automation\" refers to letting the Python program do the majority of the work. We'll tell it what to do with our code, and then it will handle the rest!\n",
    "<br> <br>\n",
    "Python is a great language to create stimuli for a psych experiment. In this vignette we'll read a folder of single images into our program, pair them up, and create stimuli like the example displayed below!\n",
    "<br> <br>\n",
    "All stimuli in this vignette were obtained via the [Chicago Face Database](https://chicagofaces.org/default/), which is completely free to use for research purposes.\n",
    "<br> <br>\n",
    "![](Example_Stim.png)\n",
    "<br> <br>\n",
    "To accomplish this, we'll need to write a **function**. In Python, a function is a set (or \"block\") of reproducible code that we can use once to repeat an action multiple times without having to write the same code multiple times.\n",
    "<br> <br>\n",
    "Before that, we'll need to import relevant **modules** (or packages). Python modules are the same as a library in R - in other words, they are collections of pre-written code that we can bring into our program to use!"
   ]
  },
  {
   "cell_type": "code",
   "execution_count": 1,
   "metadata": {},
   "outputs": [],
   "source": [
    "# Imports\n",
    "import os\n",
    "import subprocess\n",
    "import matplotlib\n",
    "import matplotlib.pyplot as plt\n",
    "import numpy as np\n",
    "from PIL import Image, ImageOps\n",
    "\n",
    "matplotlib.use('Agg')"
   ]
  },
  {
   "cell_type": "code",
   "execution_count": 2,
   "metadata": {},
   "outputs": [
    {
     "data": {
      "text/plain": [
       "0"
      ]
     },
     "execution_count": 2,
     "metadata": {},
     "output_type": "execute_result"
    }
   ],
   "source": [
    "# Save file path to a variable\n",
    "here = os.getcwd()\n",
    "\n",
    "subprocess.call([\"open\", (here + \"/Faces/\")])"
   ]
  },
  {
   "cell_type": "code",
   "execution_count": 3,
   "metadata": {},
   "outputs": [
    {
     "data": {
      "text/plain": [
       "['CFD-LM-204-001-N.jpg',\n",
       " 'CFD-LM-201-057-N.jpg',\n",
       " 'CFD-LM-203-026-N.jpg',\n",
       " 'CFD-LM-200-045-N.jpg',\n",
       " 'CFD-LM-206-204-N.jpg',\n",
       " 'CFD-LM-208-110-N.jpg',\n",
       " 'CFD-LM-207-004-N.jpg',\n",
       " 'CFD-LM-202-072-N.jpg']"
      ]
     },
     "execution_count": 3,
     "metadata": {},
     "output_type": "execute_result"
    }
   ],
   "source": [
    "# Define local directory hierarchy\n",
    "faces = here + \"/Faces/\"\n",
    "output = here + \"/Output/\"\n",
    "\n",
    "# Create list of files in directory\n",
    "single_im = [image for image in os.listdir(faces) if \".jpg\" in image]\n",
    "\n",
    "# Move to faces directory\n",
    "os.chdir(faces)\n",
    "\n",
    "# Show list of files (8 total)\n",
    "single_im"
   ]
  },
  {
   "cell_type": "code",
   "execution_count": 4,
   "metadata": {},
   "outputs": [
    {
     "name": "stdout",
     "output_type": "stream",
     "text": [
      "Total number of combinations: 56\n"
     ]
    }
   ],
   "source": [
    "counter = 0\n",
    "\n",
    "for left in single_im:\n",
    "    for right in single_im:\n",
    "        \n",
    "        # Don't count duplicates\n",
    "        if (left == right):\n",
    "            continue\n",
    "        \n",
    "        counter += 1\n",
    "\n",
    "print(\"Total number of combinations: {}\".format(str(counter)))"
   ]
  },
  {
   "cell_type": "code",
   "execution_count": 5,
   "metadata": {
    "scrolled": true
   },
   "outputs": [],
   "source": [
    "# Function to generate pairwise stimuli\n",
    "def generateStims(left, right):\n",
    "    \n",
    "    \"\"\"\n",
    "    Left = Image on the left-hand side of the stimulus\n",
    "    Right = Image on the right-hand side of the stimulus\n",
    "    \"\"\"\n",
    "    \n",
    "    border = (615,85,615,250)\n",
    "    \n",
    "    # Instantiate matplotlib object\n",
    "    fig = plt.figure()\n",
    "\n",
    "    # Left image\n",
    "    ax1 = fig.add_subplot(1,1,1)\n",
    "    face_l = Image.open(left)                        # Open and crop image from list\n",
    "    face_l = ImageOps.crop(face_l, border)\n",
    "    ax1.set_xticks([])                               # Format border (i.e., no tick marks!)\n",
    "    ax1.set_yticks([])\n",
    "    ax1.axis('off')\n",
    "    plt.imshow(face_l)                               # Push image to matplotlib object\n",
    "\n",
    "    # Right image\n",
    "    ax2 = fig.add_subplot(1,2,2)\n",
    "    face_r = Image.open(right)                       # Sim.\n",
    "    face_r = ImageOps.crop(face_r, border)\n",
    "    ax2.set_xticks([])\n",
    "    ax2.set_yticks([])\n",
    "    ax2.axis('off')\n",
    "    plt.imshow(face_r)\n",
    "\n",
    "    # Format and save to local directory\n",
    "    fig.subplots_adjust(right=3)\n",
    "    filename = \"stim_{}_{}.png\".format(left[7:14], right[7:14])\n",
    "    fig.savefig(os.path.join(output, filename), bbox_inches=\"tight\")\n",
    "    plt.close()"
   ]
  },
  {
   "cell_type": "code",
   "execution_count": 6,
   "metadata": {},
   "outputs": [],
   "source": [
    "# Loop through images and make pairwise stimuli\n",
    "for left in single_im:\n",
    "    \n",
    "    for right in single_im:\n",
    "        \n",
    "        if left == right:\n",
    "            continue\n",
    "            \n",
    "        generateStims(left, right)"
   ]
  },
  {
   "cell_type": "markdown",
   "metadata": {},
   "source": [
    "**Takeaway**: We can write the function once, and then use it over and over for different groups of stimuli. The replicability of Python is a major asset for us!\n",
    "\n",
    "**Up Next**: [Scraping Tweets with Python](http://localhost:8888/notebooks/Documents/ACADEMIA/04_Stanford/02_Projects/03_Professional-Dev/00_Python-in-Psych/02_Abstract-Data-Sources/Twitter%20Scraper.ipynb)"
   ]
  }
 ],
 "metadata": {
  "kernelspec": {
   "display_name": "Python 3",
   "language": "python",
   "name": "python3"
  },
  "language_info": {
   "codemirror_mode": {
    "name": "ipython",
    "version": 3
   },
   "file_extension": ".py",
   "mimetype": "text/x-python",
   "name": "python",
   "nbconvert_exporter": "python",
   "pygments_lexer": "ipython3",
   "version": "3.6.0"
  }
 },
 "nbformat": 4,
 "nbformat_minor": 2
}
