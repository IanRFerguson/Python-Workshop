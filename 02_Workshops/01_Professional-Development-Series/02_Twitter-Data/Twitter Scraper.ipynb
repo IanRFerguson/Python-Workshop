{
 "cells": [
  {
   "cell_type": "markdown",
   "metadata": {},
   "source": [
    "# Using Python with Twitter\n",
    "----------------\n",
    "Python's flexibility gives us the option to obtain (or \"scrape\") data from unconventional sources. One of my personal favorites is Twitter, since it gives users direct access to one another.\n",
    "<br> <br>\n",
    "To access Twitter's API (application programming interface), you need to sign up for a [Twitter Developer Account](https://developer.twitter.com/en), which takes only a few minutes. This allows you to build an app and generate credentials that let you obtain raw user data from Twitter.\n",
    "<br> <br>\n",
    "You can do lots of things on Twitter, including [building a bot!](https://twitter.com/Verbal_Hug)"
   ]
  },
  {
   "cell_type": "code",
   "execution_count": 1,
   "metadata": {},
   "outputs": [],
   "source": [
    "# Imports\n",
    "import pandas as pd\n",
    "import tweepy\n",
    "import json"
   ]
  },
  {
   "cell_type": "code",
   "execution_count": 2,
   "metadata": {},
   "outputs": [
    {
     "name": "stdout",
     "output_type": "stream",
     "text": [
      "You are connected to Twitter's API\n"
     ]
    }
   ],
   "source": [
    "with open(\"Passwords.txt\") as incoming:\n",
    "    \n",
    "    credentials = json.load(incoming)\n",
    "    \n",
    "# Connect to Twitter API\n",
    "auth = tweepy.OAuthHandler(consumer_key = credentials[\"API_Key\"], \n",
    "                           consumer_secret = credentials[\"API_Secret\"])\n",
    "\n",
    "auth.set_access_token(key = credentials[\"Access_Token\"], \n",
    "                      secret = credentials[\"Access_Secret\"])\n",
    "\n",
    "api = tweepy.API(auth, wait_on_rate_limit = True, wait_on_rate_limit_notify = True)\n",
    "\n",
    "try:\n",
    "    api.verify_credentials()\n",
    "    print(\"You are connected to Twitter's API\")\n",
    "    \n",
    "except:\n",
    "    print(\"Error connecting to Twitter\")"
   ]
  },
  {
   "cell_type": "code",
   "execution_count": 3,
   "metadata": {},
   "outputs": [],
   "source": [
    "def scrape(keyword, num):\n",
    "    \n",
    "    \"\"\"\n",
    "    keyword = Search criteria\n",
    "    num = Number of Tweets that we want to obtain\n",
    "    \"\"\"\n",
    "    \n",
    "    keyword_format = (\"{} -filter:retweets -filter:links\".format(keyword))\n",
    "    \n",
    "    created, name, location, text, likes, rts = [], [], [], [], [], []\n",
    "\n",
    "    for tweet in tweepy.Cursor(api.search, \n",
    "                               q = keyword_format, \n",
    "                               lang = 'en', \n",
    "                               tweet_mode = 'extended').items(num):\n",
    "\n",
    "            created.append(tweet.created_at)\n",
    "            name.append(tweet.user.name)\n",
    "            location.append(tweet.user.location)            \n",
    "            text.append(tweet.full_text) \n",
    "            likes.append(tweet.favorite_count)\n",
    "            rts.append(tweet.retweet_count)\n",
    "\n",
    "\n",
    "    tweetData = pd.DataFrame({'DateTime': created,\n",
    "                             'User Name': name,\n",
    "                             'Location': location,\n",
    "                             'Tweet': text,\n",
    "                             'Likes': likes,\n",
    "                             'Retweets': rts})\n",
    "\n",
    "    \n",
    "    return tweetData"
   ]
  },
  {
   "cell_type": "code",
   "execution_count": 4,
   "metadata": {},
   "outputs": [],
   "source": [
    "test = scrape(\"psychology\", 50)"
   ]
  },
  {
   "cell_type": "code",
   "execution_count": 5,
   "metadata": {
    "scrolled": false
   },
   "outputs": [
    {
     "data": {
      "text/html": [
       "<div>\n",
       "<style scoped>\n",
       "    .dataframe tbody tr th:only-of-type {\n",
       "        vertical-align: middle;\n",
       "    }\n",
       "\n",
       "    .dataframe tbody tr th {\n",
       "        vertical-align: top;\n",
       "    }\n",
       "\n",
       "    .dataframe thead th {\n",
       "        text-align: right;\n",
       "    }\n",
       "</style>\n",
       "<table border=\"1\" class=\"dataframe\">\n",
       "  <thead>\n",
       "    <tr style=\"text-align: right;\">\n",
       "      <th></th>\n",
       "      <th>DateTime</th>\n",
       "      <th>User Name</th>\n",
       "      <th>Location</th>\n",
       "      <th>Tweet</th>\n",
       "      <th>Likes</th>\n",
       "      <th>Retweets</th>\n",
       "    </tr>\n",
       "  </thead>\n",
       "  <tbody>\n",
       "    <tr>\n",
       "      <th>0</th>\n",
       "      <td>2020-08-27 18:52:59</td>\n",
       "      <td>Neil</td>\n",
       "      <td>Bubblers and cheese curds</td>\n",
       "      <td>@ProudlyCanadia4 @Amy_Siskind I'm just amazed ...</td>\n",
       "      <td>0</td>\n",
       "      <td>0</td>\n",
       "    </tr>\n",
       "    <tr>\n",
       "      <th>1</th>\n",
       "      <td>2020-08-27 18:52:46</td>\n",
       "      <td>Katrina M. (she/they) 🌈🥄</td>\n",
       "      <td>Richmond, VA</td>\n",
       "      <td>Starting a personal database of psychology gra...</td>\n",
       "      <td>0</td>\n",
       "      <td>0</td>\n",
       "    </tr>\n",
       "    <tr>\n",
       "      <th>2</th>\n",
       "      <td>2020-08-27 18:52:14</td>\n",
       "      <td>TOP WRITING SERVICES</td>\n",
       "      <td>California, USA</td>\n",
       "      <td>We are the best and top essay, #homework and #...</td>\n",
       "      <td>0</td>\n",
       "      <td>0</td>\n",
       "    </tr>\n",
       "    <tr>\n",
       "      <th>3</th>\n",
       "      <td>2020-08-27 18:52:03</td>\n",
       "      <td>Ankush Argade, PhD</td>\n",
       "      <td>Bay Area, CA</td>\n",
       "      <td>@MulhollandLeda Yes, I read the psychology of ...</td>\n",
       "      <td>0</td>\n",
       "      <td>0</td>\n",
       "    </tr>\n",
       "    <tr>\n",
       "      <th>4</th>\n",
       "      <td>2020-08-27 18:51:52</td>\n",
       "      <td>❄️🍻🇺🇸Ben🇺🇸🥓❄️</td>\n",
       "      <td>Nj</td>\n",
       "      <td>@SarahHuckabee @realDonaldTrump Reverse psycho...</td>\n",
       "      <td>0</td>\n",
       "      <td>0</td>\n",
       "    </tr>\n",
       "    <tr>\n",
       "      <th>5</th>\n",
       "      <td>2020-08-27 18:51:40</td>\n",
       "      <td>Cammy</td>\n",
       "      <td>big fish</td>\n",
       "      <td>Not me not paying attention in psychology and ...</td>\n",
       "      <td>0</td>\n",
       "      <td>0</td>\n",
       "    </tr>\n",
       "    <tr>\n",
       "      <th>6</th>\n",
       "      <td>2020-08-27 18:51:14</td>\n",
       "      <td>jam🧸</td>\n",
       "      <td>#제노 / #재현</td>\n",
       "      <td>bat may physics yung psychology??!!</td>\n",
       "      <td>0</td>\n",
       "      <td>0</td>\n",
       "    </tr>\n",
       "    <tr>\n",
       "      <th>7</th>\n",
       "      <td>2020-08-27 18:51:06</td>\n",
       "      <td>charity cupp</td>\n",
       "      <td></td>\n",
       "      <td>suspect is shot &amp;amp; family says when did the...</td>\n",
       "      <td>0</td>\n",
       "      <td>0</td>\n",
       "    </tr>\n",
       "    <tr>\n",
       "      <th>8</th>\n",
       "      <td>2020-08-27 18:50:55</td>\n",
       "      <td>Blake Alexander</td>\n",
       "      <td>Los Angeles, CA</td>\n",
       "      <td>@rationalwalk Psychology. The buyers need to i...</td>\n",
       "      <td>1</td>\n",
       "      <td>0</td>\n",
       "    </tr>\n",
       "    <tr>\n",
       "      <th>9</th>\n",
       "      <td>2020-08-27 18:50:52</td>\n",
       "      <td>Simon Clark</td>\n",
       "      <td></td>\n",
       "      <td>someone hitting a bong in my zoom psychology l...</td>\n",
       "      <td>0</td>\n",
       "      <td>0</td>\n",
       "    </tr>\n",
       "  </tbody>\n",
       "</table>\n",
       "</div>"
      ],
      "text/plain": [
       "             DateTime                 User Name                   Location  \\\n",
       "0 2020-08-27 18:52:59                      Neil  Bubblers and cheese curds   \n",
       "1 2020-08-27 18:52:46  Katrina M. (she/they) 🌈🥄               Richmond, VA   \n",
       "2 2020-08-27 18:52:14      TOP WRITING SERVICES            California, USA   \n",
       "3 2020-08-27 18:52:03        Ankush Argade, PhD               Bay Area, CA   \n",
       "4 2020-08-27 18:51:52             ❄️🍻🇺🇸Ben🇺🇸🥓❄️                         Nj   \n",
       "5 2020-08-27 18:51:40                     Cammy                   big fish   \n",
       "6 2020-08-27 18:51:14                      jam🧸                  #제노 / #재현   \n",
       "7 2020-08-27 18:51:06              charity cupp                              \n",
       "8 2020-08-27 18:50:55           Blake Alexander            Los Angeles, CA   \n",
       "9 2020-08-27 18:50:52               Simon Clark                              \n",
       "\n",
       "                                               Tweet  Likes  Retweets  \n",
       "0  @ProudlyCanadia4 @Amy_Siskind I'm just amazed ...      0         0  \n",
       "1  Starting a personal database of psychology gra...      0         0  \n",
       "2  We are the best and top essay, #homework and #...      0         0  \n",
       "3  @MulhollandLeda Yes, I read the psychology of ...      0         0  \n",
       "4  @SarahHuckabee @realDonaldTrump Reverse psycho...      0         0  \n",
       "5  Not me not paying attention in psychology and ...      0         0  \n",
       "6                bat may physics yung psychology??!!      0         0  \n",
       "7  suspect is shot &amp; family says when did the...      0         0  \n",
       "8  @rationalwalk Psychology. The buyers need to i...      1         0  \n",
       "9  someone hitting a bong in my zoom psychology l...      0         0  "
      ]
     },
     "execution_count": 5,
     "metadata": {},
     "output_type": "execute_result"
    }
   ],
   "source": [
    "test.head(10)"
   ]
  },
  {
   "cell_type": "code",
   "execution_count": 6,
   "metadata": {},
   "outputs": [
    {
     "data": {
      "text/plain": [
       "0    @ProudlyCanadia4 @Amy_Siskind I'm just amazed ...\n",
       "1    Starting a personal database of psychology gra...\n",
       "2    We are the best and top essay, #homework and #...\n",
       "3    @MulhollandLeda Yes, I read the psychology of ...\n",
       "4    @SarahHuckabee @realDonaldTrump Reverse psycho...\n",
       "5    Not me not paying attention in psychology and ...\n",
       "6                  bat may physics yung psychology??!!\n",
       "7    suspect is shot &amp; family says when did the...\n",
       "8    @rationalwalk Psychology. The buyers need to i...\n",
       "9    someone hitting a bong in my zoom psychology l...\n",
       "Name: Tweet, dtype: object"
      ]
     },
     "execution_count": 6,
     "metadata": {},
     "output_type": "execute_result"
    }
   ],
   "source": [
    "test[\"Tweet\"][:10]"
   ]
  },
  {
   "cell_type": "markdown",
   "metadata": {},
   "source": [
    "**Takeaway**: Python lets us access data sources that we couldn't otherwise!\n",
    "\n",
    "**Up Next**: [PCA and K-Means Clustering](http://localhost:8888/notebooks/Documents/ACADEMIA/04_Stanford/02_Projects/03_Professional-Dev/00_Python-in-Psych/03_Machine-Learning/Machine%20Learning%20-%20Clustering.ipynb)"
   ]
  }
 ],
 "metadata": {
  "kernelspec": {
   "display_name": "Python 3",
   "language": "python",
   "name": "python3"
  },
  "language_info": {
   "codemirror_mode": {
    "name": "ipython",
    "version": 3
   },
   "file_extension": ".py",
   "mimetype": "text/x-python",
   "name": "python",
   "nbconvert_exporter": "python",
   "pygments_lexer": "ipython3",
   "version": "3.6.0"
  }
 },
 "nbformat": 4,
 "nbformat_minor": 2
}
