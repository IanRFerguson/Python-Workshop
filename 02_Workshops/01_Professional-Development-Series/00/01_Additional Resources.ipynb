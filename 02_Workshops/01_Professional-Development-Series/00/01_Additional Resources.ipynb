{
 "cells": [
  {
   "cell_type": "markdown",
   "metadata": {},
   "source": [
    "![](https://www.python.org/static/community_logos/python-logo-inkscape.svg)\n",
    "\n",
    "# Best Places to Learn Python\n",
    "-----------\n",
    "\n",
    "### Python Bootcamp from Jose Portilla + Udemy\n",
    "[LINK](https://www.udemy.com/course/complete-python-bootcamp/)\n",
    "\n",
    "<br>\n",
    "\n",
    "### Codecademy\n",
    "[LINK](https://www.codecademy.com/learn/learn-python-3)\n",
    "\n",
    "<br>\n",
    "\n",
    "### Google for Education (and it's FREE!)\n",
    "[LINK](https://developers.google.com/edu/python/)"
   ]
  }
 ],
 "metadata": {
  "kernelspec": {
   "display_name": "Python 3",
   "language": "python",
   "name": "python3"
  },
  "language_info": {
   "codemirror_mode": {
    "name": "ipython",
    "version": 3
   },
   "file_extension": ".py",
   "mimetype": "text/x-python",
   "name": "python",
   "nbconvert_exporter": "python",
   "pygments_lexer": "ipython3",
   "version": "3.6.0"
  }
 },
 "nbformat": 4,
 "nbformat_minor": 2
}
