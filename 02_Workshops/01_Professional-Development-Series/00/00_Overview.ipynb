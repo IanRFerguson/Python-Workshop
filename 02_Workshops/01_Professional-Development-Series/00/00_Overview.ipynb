{
 "cells": [
  {
   "cell_type": "markdown",
   "metadata": {},
   "source": [
    "<img src=\"Mash_Up.jpg\" width=\"800\">"
   ]
  },
  {
   "cell_type": "markdown",
   "metadata": {},
   "source": [
    "# Using Python in Psychology\n",
    "----------------\n",
    "Rather than dive into a thorough \"how-to\" of Python syntax, this overview will focus primarily on applying Python knowlege to the domain of psychology and neuroscience. For a more thorough introduction to Python, I've created a series of notebooks that you can find [HERE](https://github.com/IanRFerguson/Python-Workshop)\n",
    "<br> <br>\n",
    "This overview will cover the following topics:\n",
    "* Automated stimulus generation\n",
    "* Scraping data from unconventional sources\n",
    "* Applying Machine Learning to Psych and Neuroscience\n",
    "<br>\n",
    "\n",
    "## What are some strengths of Python?\n",
    "----------\n",
    "Python is a **general-purpose language** - in other words, it can be used to write software and applications.\n",
    "<br> <br>\n",
    "Relative to other general purpose programming languages (e.g., Java, C#), **Python** utilizes minimalist syntax to faciliate clean, readable code\n",
    "<br> <br>\n",
    "<img src=\"Java.png\">"
   ]
  },
  {
   "cell_type": "code",
   "execution_count": 1,
   "metadata": {},
   "outputs": [
    {
     "name": "stdout",
     "output_type": "stream",
     "text": [
      "Hello world!\n"
     ]
    }
   ],
   "source": [
    "def sayHi():\n",
    "    print(\"Hello world!\")\n",
    "    \n",
    "sayHi()"
   ]
  },
  {
   "cell_type": "markdown",
   "metadata": {},
   "source": [
    "### The Zen of Python\n",
    "* Explicit is better than Implicit\n",
    "* Sparse is better than Dense\n",
    "* Readability counts\n",
    "\n",
    "<br>\n",
    "\n",
    "## Why Python vs. R?\n",
    "--------------\n",
    "* While R is optimized for statistics, it is *not* a general-purpose programming language\n",
    "* In other words, R is not designed to write applications, design software, etc.\n",
    "* Python does have that power, and can handle statistical processing better than most general-purpose languages\n",
    "* In other words, Python can do almost anything!"
   ]
  },
  {
   "cell_type": "markdown",
   "metadata": {},
   "source": [
    "**Up next**: [Automating stimuli generation in Python](http://localhost:8888/notebooks/Documents/ACADEMIA/04_Stanford/02_Projects/03_Professional-Dev/00_Python-in-Psych/01_Stimulus-Generation/Pairwise%20Stimuli.ipynb)"
   ]
  }
 ],
 "metadata": {
  "kernelspec": {
   "display_name": "Python 3",
   "language": "python",
   "name": "python3"
  },
  "language_info": {
   "codemirror_mode": {
    "name": "ipython",
    "version": 3
   },
   "file_extension": ".py",
   "mimetype": "text/x-python",
   "name": "python",
   "nbconvert_exporter": "python",
   "pygments_lexer": "ipython3",
   "version": "3.6.0"
  }
 },
 "nbformat": 4,
 "nbformat_minor": 2
}
